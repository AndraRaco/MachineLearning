{
  "nbformat": 4,
  "nbformat_minor": 0,
  "metadata": {
    "colab": {
      "name": "Laboratorul5.ipynb",
      "provenance": []
    },
    "kernelspec": {
      "name": "python3",
      "display_name": "Python 3"
    }
  },
  "cells": [
    {
      "cell_type": "code",
      "metadata": {
        "id": "GwOxHv4V0p1u",
        "colab_type": "code",
        "colab": {}
      },
      "source": [
        "import numpy as np"
      ],
      "execution_count": 0,
      "outputs": []
    },
    {
      "cell_type": "code",
      "metadata": {
        "id": "vUop8CyR1lU4",
        "colab_type": "code",
        "colab": {
          "base_uri": "https://localhost:8080/",
          "height": 202
        },
        "outputId": "df6196eb-4453-425a-80b1-03cc88111443"
      },
      "source": [
        "!wget https://fmi-unibuc-ia.github.io/ia/Data/data_lab5.zip"
      ],
      "execution_count": 3,
      "outputs": [
        {
          "output_type": "stream",
          "text": [
            "--2020-04-29 07:28:40--  https://fmi-unibuc-ia.github.io/ia/Data/data_lab5.zip\n",
            "Resolving fmi-unibuc-ia.github.io (fmi-unibuc-ia.github.io)... 185.199.111.153, 185.199.110.153, 185.199.108.153, ...\n",
            "Connecting to fmi-unibuc-ia.github.io (fmi-unibuc-ia.github.io)|185.199.111.153|:443... connected.\n",
            "HTTP request sent, awaiting response... 200 OK\n",
            "Length: 503740 (492K) [application/zip]\n",
            "Saving to: ‘data_lab5.zip’\n",
            "\n",
            "\rdata_lab5.zip         0%[                    ]       0  --.-KB/s               \rdata_lab5.zip       100%[===================>] 491.93K  --.-KB/s    in 0.04s   \n",
            "\n",
            "2020-04-29 07:28:40 (11.1 MB/s) - ‘data_lab5.zip’ saved [503740/503740]\n",
            "\n"
          ],
          "name": "stdout"
        }
      ]
    },
    {
      "cell_type": "code",
      "metadata": {
        "id": "AA5jCsS71ndQ",
        "colab_type": "code",
        "colab": {
          "base_uri": "https://localhost:8080/",
          "height": 101
        },
        "outputId": "97c272f1-8db2-4074-bd97-2cd0d70000c0"
      },
      "source": [
        "!unzip data_lab5.zip"
      ],
      "execution_count": 4,
      "outputs": [
        {
          "output_type": "stream",
          "text": [
            "Archive:  data_lab5.zip\n",
            "  inflating: data/test_labels.npy    \n",
            "  inflating: data/test_sentences.npy  \n",
            "  inflating: data/training_labels.npy  \n",
            "  inflating: data/training_sentences.npy  \n"
          ],
          "name": "stdout"
        }
      ]
    },
    {
      "cell_type": "code",
      "metadata": {
        "id": "dR0S9S171r5K",
        "colab_type": "code",
        "colab": {}
      },
      "source": [
        "train_data = np.load('data/training_sentences.npy', allow_pickle=True)\n",
        "train_labels = np.load('data/training_labels.npy')\n",
        "\n",
        "test_data = np.load('data/test_sentences.npy', allow_pickle=True)\n",
        "test_labels = np.load('data/test_labels.npy')"
      ],
      "execution_count": 0,
      "outputs": []
    },
    {
      "cell_type": "code",
      "metadata": {
        "id": "D7LKK9Ud13lj",
        "colab_type": "code",
        "colab": {
          "base_uri": "https://localhost:8080/",
          "height": 34
        },
        "outputId": "61ca0e48-9ccd-4374-e135-66593675bebc"
      },
      "source": [
        "train_data[0]"
      ],
      "execution_count": 6,
      "outputs": [
        {
          "output_type": "execute_result",
          "data": {
            "text/plain": [
              "['Probably', 'not', 'still', 'going', 'over', 'some', 'stuff', 'here']"
            ]
          },
          "metadata": {
            "tags": []
          },
          "execution_count": 6
        }
      ]
    },
    {
      "cell_type": "code",
      "metadata": {
        "id": "UWtIA8fp2Cvz",
        "colab_type": "code",
        "colab": {
          "base_uri": "https://localhost:8080/",
          "height": 222
        },
        "outputId": "bb7d99be-0290-48ad-8625-66924ef45d26"
      },
      "source": [
        "train_data[:10]"
      ],
      "execution_count": 25,
      "outputs": [
        {
          "output_type": "execute_result",
          "data": {
            "text/plain": [
              "array([list(['Probably', 'not', 'still', 'going', 'over', 'some', 'stuff', 'here']),\n",
              "       list(['I', 'HAVE', 'A', 'DATE', 'ON', 'SUNDAY', 'WITH', 'WILL']),\n",
              "       list(['Thanks', '4', 'your', 'continued', 'support', 'Your', 'question', 'this', 'week', 'will', 'enter', 'u', 'in2', 'our', 'draw', '4', 'Â£100', 'cash', 'Name', 'the', 'NEW', 'US', 'President', 'txt', 'ans', 'to', '80082']),\n",
              "       list(['Dear', '0776xxxxxxx', 'Uve', 'been', 'invited', 'to', 'XCHAT', 'This', 'is', 'our', 'final', 'attempt', 'to', 'contact', 'u', 'Txt', 'CHAT', 'to', '86688', '150pMsgrcvdHGSuite3422LandsRowW1J6HL', 'LDN', '18yrs']),\n",
              "       list(['I', 'sent', 'my', 'scores', 'to', 'sophas', 'and', 'i', 'had', 'to', 'do', 'secondary', 'application', 'for', 'a', 'few', 'schools', 'I', 'think', 'if', 'you', 'are', 'thinking', 'of', 'applying', 'do', 'a', 'research', 'on', 'cost', 'also', 'Contact', 'joke', 'ogunrinde', 'her', 'school', 'is', 'one', 'me', 'the', 'less', 'expensive', 'ones']),\n",
              "       list(['Kothi', 'print', 'out', 'marandratha']),\n",
              "       list(['Arun', 'can', 'u', 'transfr', 'me', 'd', 'amt']),\n",
              "       list(['I', 'asked', 'you', 'to', 'call', 'him', 'now', 'ok']),\n",
              "       list(['Ringtone', 'Club', 'Gr8', 'new', 'polys', 'direct', 'to', 'your', 'mobile', 'every', 'week']),\n",
              "       list(['Hello', 'Just', 'got', 'here', 'st', 'andrewsboy', 'its', 'a', 'long', 'way', 'Its', 'cold', 'I', 'will', 'keep', 'you', 'posted'])],\n",
              "      dtype=object)"
            ]
          },
          "metadata": {
            "tags": []
          },
          "execution_count": 25
        }
      ]
    },
    {
      "cell_type": "code",
      "metadata": {
        "id": "r5IHHynR4fkt",
        "colab_type": "code",
        "colab": {}
      },
      "source": [
        "# Modelul bag-of-words"
      ],
      "execution_count": 0,
      "outputs": []
    },
    {
      "cell_type": "code",
      "metadata": {
        "id": "iOICh6Di0-qJ",
        "colab_type": "code",
        "colab": {}
      },
      "source": [
        "# 3. Definiți clasa BagOfWords în al cărui constructor se inițializează vocabularul (un\n",
        "# dicționar gol). În cadrul ei implementați metoda build_vocabulary(self, data) care\n",
        "# primește ca parametru o listă de mesaje(listă de liste de strings) și construiește\n",
        "# vocabularul pe baza acesteia. Cheile dicționarului sunt reprezentate de cuvintele din\n",
        "# eseuri, iar valorile de id-urile unice atribuite cuvintelor. Pe lângă vocabularul pe care-l\n",
        "# construiți, rețineți și o listă cu cuvintele în ordinea adăugării în vocabular.\n",
        "# Afișați dimensiunea vocabularul construit (9522).\n",
        "\n",
        "class BagOfWords:\n",
        "\n",
        "    def __init__(self):\n",
        "        self.vocab = {} # dictionar cuvant -> idx\n",
        "        self.words = [] # lista de cuvinte\n",
        "\n",
        "    def build_vocabulary(self, train_data):\n",
        "        for sentence in train_data:\n",
        "            for word in sentence:\n",
        "                if word not in self.vocab:\n",
        "                    self.vocab[word] = len(self.words)\n",
        "                    self.words.append(word)\n",
        "        return len(self.words)\n",
        "\n",
        "    # 4. Definiți metoda get_features(self, data) care primește ca parametru o listă de\n",
        "    # mesaje de dimensiune 𝑛𝑢𝑚_𝑠𝑎𝑚𝑝𝑙𝑒𝑠(listă de liste de strings) și returnează o matrice\n",
        "    # de dimensiune (𝑛𝑢𝑚_𝑠𝑎𝑚𝑝𝑙𝑒𝑠 x 𝑑𝑖𝑐𝑡𝑖𝑜𝑛𝑎𝑟𝑦_𝑙𝑒𝑛𝑔𝑡ℎ) definită astfel:\n",
        "\n",
        "    def get_features(self, data):\n",
        "        result = np.zeros((data.shape[0], len(self.words)),dtype='uint16')\n",
        "        for idx, sentence in enumerate(data):\n",
        "            for word in sentence:\n",
        "                if word in self.vocab:\n",
        "                    result[idx, self.vocab[word]] += 1\n",
        "        return result"
      ],
      "execution_count": 0,
      "outputs": []
    },
    {
      "cell_type": "code",
      "metadata": {
        "id": "QwBSWt811ZA1",
        "colab_type": "code",
        "colab": {
          "base_uri": "https://localhost:8080/",
          "height": 34
        },
        "outputId": "b0e2d466-e860-4ad1-c37f-9663dd698896"
      },
      "source": [
        "bow = BagOfWords()\n",
        "print(bow.build_vocabulary(train_data))"
      ],
      "execution_count": 14,
      "outputs": [
        {
          "output_type": "stream",
          "text": [
            "9522\n"
          ],
          "name": "stdout"
        }
      ]
    },
    {
      "cell_type": "code",
      "metadata": {
        "id": "TU9dYruy2RuM",
        "colab_type": "code",
        "colab": {
          "base_uri": "https://localhost:8080/",
          "height": 151
        },
        "outputId": "ff7ee30d-7176-439e-f8ed-ac1f0962b9c9"
      },
      "source": [
        "train_features = bow.get_features(train_data)\n",
        "\n",
        "print(train_features.shape)\n",
        "print(train_features)"
      ],
      "execution_count": 15,
      "outputs": [
        {
          "output_type": "stream",
          "text": [
            "(3734, 9522)\n",
            "[[1 1 1 ... 0 0 0]\n",
            " [0 0 0 ... 0 0 0]\n",
            " [0 0 0 ... 0 0 0]\n",
            " ...\n",
            " [0 0 0 ... 1 1 0]\n",
            " [0 0 0 ... 0 0 1]\n",
            " [0 0 0 ... 0 0 0]]\n"
          ],
          "name": "stdout"
        }
      ]
    },
    {
      "cell_type": "code",
      "metadata": {
        "id": "wGGETOgO3LL6",
        "colab_type": "code",
        "colab": {
          "base_uri": "https://localhost:8080/",
          "height": 50
        },
        "outputId": "67b4df76-e29c-4255-d0c2-e66a39cf4a75"
      },
      "source": [
        "print(train_data[1])\n",
        "print(train_features[1][:20])"
      ],
      "execution_count": 17,
      "outputs": [
        {
          "output_type": "stream",
          "text": [
            "['I', 'HAVE', 'A', 'DATE', 'ON', 'SUNDAY', 'WITH', 'WILL']\n",
            "[0 0 0 0 0 0 0 0 1 1 1 1 1 1 1 1 0 0 0 0]\n"
          ],
          "name": "stdout"
        }
      ]
    },
    {
      "cell_type": "code",
      "metadata": {
        "id": "ymTCgkPA351k",
        "colab_type": "code",
        "colab": {
          "base_uri": "https://localhost:8080/",
          "height": 70
        },
        "outputId": "f71843d2-3cf0-4c79-fd75-74931e4a21aa"
      },
      "source": [
        "print(train_data[102])\n",
        "print(train_features[102][:20])"
      ],
      "execution_count": 21,
      "outputs": [
        {
          "output_type": "stream",
          "text": [
            "['Babe', 'U', 'want', 'me', 'dont', 'u', 'baby', 'Im', 'nasty', 'and', 'have', 'a', 'thing', '4', 'filthyguys', 'Fancy', 'a', 'rude', 'time', 'with', 'a', 'sexy', 'bitch', 'How', 'about', 'we', 'go', 'slo', 'n', 'hard', 'Txt', 'XXX', 'SLO4msgs']\n",
            "[0 0 0 0 0 0 0 0 0 0 0 0 0 0 0 0 0 1 0 0]\n"
          ],
          "name": "stdout"
        }
      ]
    },
    {
      "cell_type": "code",
      "metadata": {
        "id": "uprXe5z-3f_y",
        "colab_type": "code",
        "colab": {
          "base_uri": "https://localhost:8080/",
          "height": 54
        },
        "outputId": "60a84db9-0560-473e-b10f-296ce43c3ff5"
      },
      "source": [
        "print([(x, bow.vocab[x]) for x in train_data[102]])"
      ],
      "execution_count": 22,
      "outputs": [
        {
          "output_type": "stream",
          "text": [
            "[('Babe', 799), ('U', 168), ('want', 800), ('me', 90), ('dont', 247), ('u', 27), ('baby', 801), ('Im', 334), ('nasty', 802), ('and', 63), ('have', 471), ('a', 70), ('thing', 482), ('4', 17), ('filthyguys', 803), ('Fancy', 804), ('a', 70), ('rude', 805), ('time', 145), ('with', 195), ('a', 70), ('sexy', 806), ('bitch', 807), ('How', 414), ('about', 189), ('we', 268), ('go', 307), ('slo', 808), ('n', 542), ('hard', 809), ('Txt', 53), ('XXX', 810), ('SLO4msgs', 811)]\n"
          ],
          "name": "stdout"
        }
      ]
    },
    {
      "cell_type": "code",
      "metadata": {
        "id": "mQvCAGMa3_6y",
        "colab_type": "code",
        "colab": {
          "base_uri": "https://localhost:8080/",
          "height": 151
        },
        "outputId": "baa2db74-75e0-4484-b7cb-0098c456dff8"
      },
      "source": [
        "test_features = bow.get_features(test_data)\n",
        "\n",
        "print(test_features.shape)\n",
        "print(test_features)"
      ],
      "execution_count": 24,
      "outputs": [
        {
          "output_type": "stream",
          "text": [
            "(1840, 9522)\n",
            "[[0 0 1 ... 0 0 0]\n",
            " [0 0 0 ... 0 0 0]\n",
            " [0 0 0 ... 0 0 0]\n",
            " ...\n",
            " [0 0 0 ... 0 0 0]\n",
            " [0 0 0 ... 0 0 0]\n",
            " [0 0 0 ... 0 0 0]]\n"
          ],
          "name": "stdout"
        }
      ]
    },
    {
      "cell_type": "code",
      "metadata": {
        "id": "aCBInNpN4k42",
        "colab_type": "code",
        "colab": {}
      },
      "source": [
        "# Normalizarea datelor "
      ],
      "execution_count": 0,
      "outputs": []
    },
    {
      "cell_type": "code",
      "metadata": {
        "id": "iExE0ZV04pVS",
        "colab_type": "code",
        "colab": {}
      },
      "source": [
        "# 2. Definiți funcția normalize_data(train_data, test_data, type=None) care primește ca\n",
        "# parametri datele de antrenare, respectiv de testare și tipul de normalizare ({None,\n",
        "# ‘standard’, ‘min_max’, ‘l1’, ‘l2’}) și întoarce aceste date normalizate. \n",
        "\n",
        "from sklearn import preprocessing\n",
        "\n",
        "def normalize_data(train_data, test_data, type=None):\n",
        "    scaler = None\n",
        "    if type == 'standard':\n",
        "        scaler = preprocessing.StandardScaler()\n",
        "\n",
        "    elif type == 'min_max':\n",
        "        scaler = preprocessing.MinMaxScaler()\n",
        "\n",
        "    elif type == 'l1' or type == 'l2':\n",
        "        scaler = preprocessing.Normalizer(norm=type)\n",
        "\n",
        "    if scaler is not None:\n",
        "        scaler.fit(train_data)\n",
        "        scaled_train_data = scaler.transform(train_data)\n",
        "        scaled_test_data = scaler.transform(test_data)\n",
        "        return scaled_train_data, scaled_test_data\n",
        "    else:\n",
        "        return train_data, test_data"
      ],
      "execution_count": 0,
      "outputs": []
    },
    {
      "cell_type": "code",
      "metadata": {
        "id": "2nm6Dr---VXU",
        "colab_type": "code",
        "colab": {
          "base_uri": "https://localhost:8080/",
          "height": 151
        },
        "outputId": "f8ddb368-fbdb-4af2-e389-c963c3d885ed"
      },
      "source": [
        "# 5. Cu ajutorul funcțiilor definite anterior, obțineți reprezentările BOW pentru mulțimea de\n",
        "# antrenare și testare, apoi normalizați-le folosind norma “L2”.\n",
        "\n",
        "test_features = bow.get_features(test_data)\n",
        "\n",
        "print(test_features.shape)\n",
        "print(test_features)"
      ],
      "execution_count": 29,
      "outputs": [
        {
          "output_type": "stream",
          "text": [
            "(1840, 9522)\n",
            "[[0 0 1 ... 0 0 0]\n",
            " [0 0 0 ... 0 0 0]\n",
            " [0 0 0 ... 0 0 0]\n",
            " ...\n",
            " [0 0 0 ... 0 0 0]\n",
            " [0 0 0 ... 0 0 0]\n",
            " [0 0 0 ... 0 0 0]]\n"
          ],
          "name": "stdout"
        }
      ]
    },
    {
      "cell_type": "code",
      "metadata": {
        "id": "wR_0l926_UZh",
        "colab_type": "code",
        "colab": {
          "base_uri": "https://localhost:8080/",
          "height": 235
        },
        "outputId": "c286b875-e3cc-4aa4-eb7b-a61b5bf1a157"
      },
      "source": [
        "norm_train_features, norm_test_features = normalize_data(train_features, test_features, 'l2')\n",
        "\n",
        "norm_train_features"
      ],
      "execution_count": 30,
      "outputs": [
        {
          "output_type": "execute_result",
          "data": {
            "text/plain": [
              "array([[0.35355339, 0.35355339, 0.35355339, ..., 0.        , 0.        ,\n",
              "        0.        ],\n",
              "       [0.        , 0.        , 0.        , ..., 0.        , 0.        ,\n",
              "        0.        ],\n",
              "       [0.        , 0.        , 0.        , ..., 0.        , 0.        ,\n",
              "        0.        ],\n",
              "       ...,\n",
              "       [0.        , 0.        , 0.        , ..., 0.19611614, 0.19611614,\n",
              "        0.        ],\n",
              "       [0.        , 0.        , 0.        , ..., 0.        , 0.        ,\n",
              "        0.33333333],\n",
              "       [0.        , 0.        , 0.        , ..., 0.        , 0.        ,\n",
              "        0.        ]])"
            ]
          },
          "metadata": {
            "tags": []
          },
          "execution_count": 30
        }
      ]
    },
    {
      "cell_type": "code",
      "metadata": {
        "id": "WX-YA8sF_wFM",
        "colab_type": "code",
        "colab": {}
      },
      "source": [
        ""
      ],
      "execution_count": 0,
      "outputs": []
    }
  ]
}