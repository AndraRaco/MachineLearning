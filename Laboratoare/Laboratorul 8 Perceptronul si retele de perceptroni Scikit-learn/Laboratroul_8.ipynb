{
  "nbformat": 4,
  "nbformat_minor": 0,
  "metadata": {
    "colab": {
      "name": "Laboratroul 8.ipynb",
      "provenance": []
    },
    "kernelspec": {
      "name": "python3",
      "display_name": "Python 3"
    }
  },
  "cells": [
    {
      "cell_type": "code",
      "metadata": {
        "id": "3J5It1mtqXh4",
        "colab_type": "code",
        "colab": {
          "base_uri": "https://localhost:8080/",
          "height": 222
        },
        "outputId": "4bb771d6-46fe-446b-c7f9-c72b4278a965"
      },
      "source": [
        "!wget https://fmi-unibuc-ia.github.io/ia/Data/lab8_partial.zip"
      ],
      "execution_count": 1,
      "outputs": [
        {
          "output_type": "stream",
          "text": [
            "--2020-05-25 07:28:42--  https://fmi-unibuc-ia.github.io/ia/Data/lab8_partial.zip\n",
            "Resolving fmi-unibuc-ia.github.io (fmi-unibuc-ia.github.io)... 185.199.111.153, 185.199.110.153, 185.199.109.153, ...\n",
            "Connecting to fmi-unibuc-ia.github.io (fmi-unibuc-ia.github.io)|185.199.111.153|:443... connected.\n",
            "HTTP request sent, awaiting response... 200 OK\n",
            "Length: 733250 (716K) [application/zip]\n",
            "Saving to: ‘lab8_partial.zip’\n",
            "\n",
            "\rlab8_partial.zip      0%[                    ]       0  --.-KB/s               \rlab8_partial.zip    100%[===================>] 716.06K  4.62MB/s    in 0.2s    \n",
            "\n",
            "2020-05-25 07:28:42 (4.62 MB/s) - ‘lab8_partial.zip’ saved [733250/733250]\n",
            "\n"
          ],
          "name": "stdout"
        }
      ]
    },
    {
      "cell_type": "code",
      "metadata": {
        "id": "KLXCdpOQu5RC",
        "colab_type": "code",
        "colab": {
          "base_uri": "https://localhost:8080/",
          "height": 202
        },
        "outputId": "fccf2b20-049a-4313-b888-1368ec911cbc"
      },
      "source": [
        "!unzip lab8_partial.zip"
      ],
      "execution_count": 2,
      "outputs": [
        {
          "output_type": "stream",
          "text": [
            "Archive:  lab8_partial.zip\n",
            "  inflating: data/3d-points/x_test.txt  \n",
            "  inflating: data/3d-points/x_train.txt  \n",
            "  inflating: data/3d-points/y_test.txt  \n",
            "  inflating: data/3d-points/y_train.txt  \n",
            "  inflating: data/MNIST/test_images.txt  \n",
            "  inflating: data/MNIST/test_labels.txt  \n",
            "  inflating: data/MNIST/train_images.txt  \n",
            "  inflating: data/MNIST/train_labels.txt  \n",
            "  inflating: lab8_partial.ipynb      \n",
            "  inflating: lab8_partial.py         \n"
          ],
          "name": "stdout"
        }
      ]
    },
    {
      "cell_type": "code",
      "metadata": {
        "id": "2oD1PHQ0u653",
        "colab_type": "code",
        "colab": {}
      },
      "source": [
        "import numpy as np"
      ],
      "execution_count": 0,
      "outputs": []
    },
    {
      "cell_type": "code",
      "metadata": {
        "id": "Wdf0N0UQu9oR",
        "colab_type": "code",
        "colab": {}
      },
      "source": [
        "from mpl_toolkits import mplot3d\n",
        "import numpy as np\n",
        "import matplotlib.pyplot as plt\n",
        "def plot3d_data_and_decision_function(X, y, W, b):\n",
        "    ax = plt.axes(projection='3d')\n",
        "    # create x,y\n",
        "    xx, yy = np.meshgrid(range(10), range(10))\n",
        "    # calculate corresponding z\n",
        "    # [x, y, z] * [W[0], W[1], W[2]] + b = 0\n",
        "    zz = (-W[0] * xx - W[1] * yy - b) / W[2]\n",
        "    ax.plot_surface(xx, yy, zz, alpha=0.5)\n",
        "    ax.scatter3D(X[y == -1, 0], X[y == -1, 1], X[y == -1, 2], 'b');\n",
        "    ax.scatter3D(X[y == 1, 0], X[y == 1, 1], X[y == 1, 2], 'r');\n",
        "    plt.show()"
      ],
      "execution_count": 0,
      "outputs": []
    },
    {
      "cell_type": "code",
      "metadata": {
        "id": "V3APqYz0u_jj",
        "colab_type": "code",
        "colab": {}
      },
      "source": [
        "test_images = np.loadtxt('data/MNIST/test_images.txt')\n",
        "test_labels = np.loadtxt('data/MNIST/test_labels.txt')\n",
        "train_images = np.loadtxt('data/MNIST/train_images.txt')\n",
        "train_labels = np.loadtxt('data/MNIST/train_labels.txt')"
      ],
      "execution_count": 0,
      "outputs": []
    },
    {
      "cell_type": "code",
      "metadata": {
        "id": "3ibkQi8WvA4b",
        "colab_type": "code",
        "colab": {
          "base_uri": "https://localhost:8080/",
          "height": 315
        },
        "outputId": "3efb556e-1820-4c41-eb68-726c63e7f68a"
      },
      "source": [
        "# 1.  Antrenati un perceptron pe multimea de puncte 3d, pana cand eroare nu se\n",
        "# imbunatateste cu 1e-5 fata de epocile anterioare, cu rata de invatare 0.1. Calculati\n",
        "# acuratetea pe multimea de antrenare si testare, apoi afisati ponderile, bias-ul si\n",
        "# numarul de epoci parcuse pana la convergenta. Plotati planul de decizie al\n",
        "# clasificatorului cu ajutorului functiei plot3d_data_and_decision_function.\n",
        "\n",
        "from sklearn.linear_model import Perceptron\n",
        "\n",
        "perceptron_model = Perceptron(max_iter=100, tol=1e-5, shuffle=True, eta0=0.1, early_stopping=True, validation_fraction=0.1, n_iter_no_change=5)\n",
        "perceptron_model.fit(x_train, y_train)\n",
        "\n",
        "print(perceptron_model.coef_)\n",
        "print(perceptron_model.intercept_)\n",
        "print(perceptron_model.n_iter_)\n",
        "\n",
        "# accuracy\n",
        "print(perceptron_model.score(x_test, y_test))\n",
        "# plot\n",
        "plot3d_data_and_decision_function(x_train, y_train, perceptron_model.coef_[0], perceptron_model.intercept_[0])"
      ],
      "execution_count": 6,
      "outputs": [
        {
          "output_type": "stream",
          "text": [
            "[[-1.18841049 -1.33054551 -1.67664006]]\n",
            "[16.9]\n",
            "6\n",
            "0.92\n"
          ],
          "name": "stdout"
        },
        {
          "output_type": "display_data",
          "data": {
            "image/png": "[encoded data removed]",
            "text/plain": [
              "<Figure size 432x288 with 1 Axes>"
            ]
          },
          "metadata": {
            "tags": [],
            "needs_background": "light"
          }
        }
      ]
    },
    {
      "cell_type": "code",
      "metadata": {
        "id": "RK0gU09owD-e",
        "colab_type": "code",
        "colab": {}
      },
      "source": [
        "test_images = np.loadtxt('data/MNIST/test_images.txt')\n",
        "test_labels = np.loadtxt('data/MNIST/test_labels.txt').astype(np.int)\n",
        "train_images = np.loadtxt('data/MNIST/train_images.txt')\n",
        "train_labels = np.loadtxt('data/MNIST/train_labels.txt').astype(np.int)"
      ],
      "execution_count": 0,
      "outputs": []
    },
    {
      "cell_type": "code",
      "metadata": {
        "id": "YiLaDRDrxIHT",
        "colab_type": "code",
        "colab": {}
      },
      "source": [
        "# 2. Antrenati o retea de perceptroni care sa clasifice cifrele scrise de mana\n",
        "# MNIST. Datele trebuie normalizate prin scaderea mediei si impartirea la deviatia\n",
        "# standard. Antrenati si testati urmatoarele configuratii de retele:"
      ],
      "execution_count": 0,
      "outputs": []
    },
    {
      "cell_type": "code",
      "metadata": {
        "id": "lhs_wp4bvJPB",
        "colab_type": "code",
        "colab": {
          "base_uri": "https://localhost:8080/",
          "height": 34
        },
        "outputId": "546d51ae-f51b-4430-b12e-95930356be25"
      },
      "source": [
        "# a\n",
        "import numpy as np \n",
        "from sklearn.preprocessing import StandardScaler\n",
        "from sklearn.neural_network import MLPClassifier\n",
        "\n",
        "scaler = StandardScaler()\n",
        "scaler.fit(train_images)\n",
        "train_images = scaler.transform(train_images)\n",
        "test_images = scaler.transform(test_images)\n",
        "\n",
        "mlp = MLPClassifier(hidden_layer_sizes=(1),\n",
        "                    activation='tanh',\n",
        "                    learning_rate_init=0.01,\n",
        "                    max_iter=200,\n",
        "                    momentum=0)\n",
        "\n",
        "mlp.fit(train_images, train_labels)\n",
        "mlp.score(test_images, test_labels)"
      ],
      "execution_count": 9,
      "outputs": [
        {
          "output_type": "execute_result",
          "data": {
            "text/plain": [
              "0.19"
            ]
          },
          "metadata": {
            "tags": []
          },
          "execution_count": 9
        }
      ]
    },
    {
      "cell_type": "code",
      "metadata": {
        "id": "ynzB2Z95wF7H",
        "colab_type": "code",
        "colab": {
          "base_uri": "https://localhost:8080/",
          "height": 34
        },
        "outputId": "9c160067-e8b9-4cf0-fe12-f80525cafe1a"
      },
      "source": [
        "# b\n",
        "mlp = MLPClassifier(hidden_layer_sizes=(10),\n",
        "                    activation='tanh',\n",
        "                    learning_rate_init=0.01,\n",
        "                    max_iter=200,\n",
        "                    momentum=0)\n",
        "\n",
        "mlp.fit(train_images, train_labels)\n",
        "mlp.score(test_images, test_labels)"
      ],
      "execution_count": 17,
      "outputs": [
        {
          "output_type": "execute_result",
          "data": {
            "text/plain": [
              "0.812"
            ]
          },
          "metadata": {
            "tags": []
          },
          "execution_count": 17
        }
      ]
    },
    {
      "cell_type": "code",
      "metadata": {
        "id": "ZE4qpLeCw0dX",
        "colab_type": "code",
        "colab": {
          "base_uri": "https://localhost:8080/",
          "height": 87
        },
        "outputId": "b45ae795-a63f-4a44-c219-3a233d435714"
      },
      "source": [
        "# c\n",
        "mlp_classifier_model = MLPClassifier(activation='tanh',\n",
        "                                     hidden_layer_sizes=(10),\n",
        "                                     learning_rate_init=0.00001,\n",
        "                                     momentum=0, max_iter=2000)\n",
        "\n",
        "mlp_classifier_model.fit(train_images, train_labels)\n",
        "print(mlp_classifier_model.score(test_images, test_labels))"
      ],
      "execution_count": 16,
      "outputs": [
        {
          "output_type": "stream",
          "text": [
            "0.804\n"
          ],
          "name": "stdout"
        },
        {
          "output_type": "stream",
          "text": [
            "/usr/local/lib/python3.6/dist-packages/sklearn/neural_network/_multilayer_perceptron.py:571: ConvergenceWarning: Stochastic Optimizer: Maximum iterations (2000) reached and the optimization hasn't converged yet.\n",
            "  % self.max_iter, ConvergenceWarning)\n"
          ],
          "name": "stderr"
        }
      ]
    },
    {
      "cell_type": "code",
      "metadata": {
        "id": "WtA54HEnxeoa",
        "colab_type": "code",
        "colab": {
          "base_uri": "https://localhost:8080/",
          "height": 34
        },
        "outputId": "2c2c5540-5a4f-41c8-b1c2-28c0b2239055"
      },
      "source": [
        "# d\n",
        "mlp_classifier_model = MLPClassifier(activation='tanh',\n",
        "                                     hidden_layer_sizes=(10),\n",
        "                                     learning_rate_init=10,\n",
        "                                     momentum=0,\n",
        "                                     max_iter=200)\n",
        "\n",
        "mlp_classifier_model.fit(train_images, train_labels)\n",
        "print(mlp_classifier_model.score(test_images, test_labels))"
      ],
      "execution_count": 15,
      "outputs": [
        {
          "output_type": "stream",
          "text": [
            "0.458\n"
          ],
          "name": "stdout"
        }
      ]
    },
    {
      "cell_type": "code",
      "metadata": {
        "id": "DH61qdXww3Th",
        "colab_type": "code",
        "colab": {
          "base_uri": "https://localhost:8080/",
          "height": 87
        },
        "outputId": "b8d331ae-6fc3-4dee-b259-676f0b75531b"
      },
      "source": [
        "# e\n",
        "mlp = MLPClassifier(hidden_layer_sizes=(10),\n",
        "                    activation='tanh',\n",
        "                    learning_rate_init=0.01,\n",
        "                    max_iter=20,\n",
        "                    momentum=0)\n",
        "\n",
        "mlp.fit(train_images, train_labels)\n",
        "mlp.score(test_images, test_labels)"
      ],
      "execution_count": 19,
      "outputs": [
        {
          "output_type": "stream",
          "text": [
            "/usr/local/lib/python3.6/dist-packages/sklearn/neural_network/_multilayer_perceptron.py:571: ConvergenceWarning: Stochastic Optimizer: Maximum iterations (20) reached and the optimization hasn't converged yet.\n",
            "  % self.max_iter, ConvergenceWarning)\n"
          ],
          "name": "stderr"
        },
        {
          "output_type": "execute_result",
          "data": {
            "text/plain": [
              "0.812"
            ]
          },
          "metadata": {
            "tags": []
          },
          "execution_count": 19
        }
      ]
    },
    {
      "cell_type": "code",
      "metadata": {
        "id": "wAwrL6sexnf9",
        "colab_type": "code",
        "colab": {
          "base_uri": "https://localhost:8080/",
          "height": 34
        },
        "outputId": "d4ef6879-4af5-411a-b26b-f6a0849b14f4"
      },
      "source": [
        "# f\n",
        "mlp_classifier_model = MLPClassifier(activation='tanh', hidden_layer_sizes=(10, 10), learning_rate_init=0.01, momentum=0, max_iter=2000)\n",
        "\n",
        "mlp_classifier_model.fit(train_images, train_labels)\n",
        "print(mlp_classifier_model.score(test_images, test_labels))"
      ],
      "execution_count": 20,
      "outputs": [
        {
          "output_type": "stream",
          "text": [
            "0.77\n"
          ],
          "name": "stdout"
        }
      ]
    },
    {
      "cell_type": "code",
      "metadata": {
        "id": "3X8YopFbx0Mj",
        "colab_type": "code",
        "colab": {
          "base_uri": "https://localhost:8080/",
          "height": 34
        },
        "outputId": "1f4440a0-6217-4062-c038-324d8de3e8bc"
      },
      "source": [
        "#j\n",
        "mlp = MLPClassifier(activation = 'relu',\n",
        "                    hidden_layer_sizes=(100, 100),\n",
        "                    learning_rate_init=0.01,\n",
        "                    momentum=0.9, \n",
        "                    max_iter=2000, \n",
        "                    alpha=0.005)\n",
        "mlp.fit(train_images, train_labels)\n",
        "mlp.score(test_images, test_labels)"
      ],
      "execution_count": 21,
      "outputs": [
        {
          "output_type": "execute_result",
          "data": {
            "text/plain": [
              "0.888"
            ]
          },
          "metadata": {
            "tags": []
          },
          "execution_count": 21
        }
      ]
    },
    {
      "cell_type": "code",
      "metadata": {
        "id": "VcSs53l1xqwL",
        "colab_type": "code",
        "colab": {
          "base_uri": "https://localhost:8080/",
          "height": 34
        },
        "outputId": "a33b9e0b-6732-4c3e-ad15-db19b1b17f9c"
      },
      "source": [
        "# g\n",
        "mlp = MLPClassifier(activation='relu', hidden_layer_sizes=(10, 10), learning_rate_init=0.01, momentum=0, max_iter=2000)\n",
        "mlp.fit(train_images, train_labels)\n",
        "mlp.score(test_images, test_labels)"
      ],
      "execution_count": 22,
      "outputs": [
        {
          "output_type": "execute_result",
          "data": {
            "text/plain": [
              "0.84"
            ]
          },
          "metadata": {
            "tags": []
          },
          "execution_count": 22
        }
      ]
    },
    {
      "cell_type": "code",
      "metadata": {
        "id": "uc4u8bJayq6e",
        "colab_type": "code",
        "colab": {
          "base_uri": "https://localhost:8080/",
          "height": 34
        },
        "outputId": "b455662a-68b9-4a73-91ea-8ab2156d601c"
      },
      "source": [
        "#h\n",
        "mlp_classifier_model = MLPClassifier(activation='tanh', hidden_layer_sizes=(100, 100), learning_rate_init=0.01, momentum=0, max_iter=2000)\n",
        "\n",
        "mlp_classifier_model.fit(train_images, train_labels)\n",
        "print(mlp_classifier_model.score(test_images, test_labels))"
      ],
      "execution_count": 23,
      "outputs": [
        {
          "output_type": "stream",
          "text": [
            "0.87\n"
          ],
          "name": "stdout"
        }
      ]
    }
  ]
}