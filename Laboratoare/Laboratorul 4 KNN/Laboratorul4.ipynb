{
  "nbformat": 4,
  "nbformat_minor": 0,
  "metadata": {
    "colab": {
      "name": "Laboratorul4.ipynb",
      "provenance": [],
      "collapsed_sections": []
    },
    "kernelspec": {
      "name": "python3",
      "display_name": "Python 3"
    }
  },
  "cells": [
    {
      "cell_type": "code",
      "metadata": {
        "id": "nKKlxfyyfJe5",
        "colab_type": "code",
        "outputId": "4ca3989b-267c-4955-a1f5-dae7a2d4510e",
        "colab": {
          "base_uri": "https://localhost:8080/",
          "height": 202
        }
      },
      "source": [
        "!wget https://fmi-unibuc-ia.github.io/ia/Data/data_MNIST.zip"
      ],
      "execution_count": 26,
      "outputs": [
        {
          "output_type": "stream",
          "text": [
            "--2020-04-28 11:22:18--  https://fmi-unibuc-ia.github.io/ia/Data/data_MNIST.zip\n",
            "Resolving fmi-unibuc-ia.github.io (fmi-unibuc-ia.github.io)... 185.199.111.153, 185.199.109.153, 185.199.110.153, ...\n",
            "Connecting to fmi-unibuc-ia.github.io (fmi-unibuc-ia.github.io)|185.199.111.153|:443... connected.\n",
            "HTTP request sent, awaiting response... 200 OK\n",
            "Length: 629644 (615K) [application/zip]\n",
            "Saving to: ‘data_MNIST.zip.1’\n",
            "\n",
            "\rdata_MNIST.zip.1      0%[                    ]       0  --.-KB/s               \rdata_MNIST.zip.1    100%[===================>] 614.89K  --.-KB/s    in 0.07s   \n",
            "\n",
            "2020-04-28 11:22:18 (8.59 MB/s) - ‘data_MNIST.zip.1’ saved [629644/629644]\n",
            "\n"
          ],
          "name": "stdout"
        }
      ]
    },
    {
      "cell_type": "code",
      "metadata": {
        "id": "vXSJ31xFfOoH",
        "colab_type": "code",
        "outputId": "c90f565b-f971-4391-ae4f-d745dd1479b5",
        "colab": {
          "base_uri": "https://localhost:8080/",
          "height": 185
        }
      },
      "source": [
        "!unzip data_MNIST.zip"
      ],
      "execution_count": 27,
      "outputs": [
        {
          "output_type": "stream",
          "text": [
            "Archive:  data_MNIST.zip\n",
            "replace data/test_images.txt? [y]es, [n]o, [A]ll, [N]one, [r]ename: a\n",
            "error:  invalid response [a]\n",
            "replace data/test_images.txt? [y]es, [n]o, [A]ll, [N]one, [r]ename: a\n",
            "error:  invalid response [a]\n",
            "replace data/test_images.txt? [y]es, [n]o, [A]ll, [N]one, [r]ename: A\n",
            "  inflating: data/test_images.txt    \n",
            "  inflating: data/test_labels.txt    \n",
            "  inflating: data/train_images.txt   \n",
            "  inflating: data/train_labels.txt   \n"
          ],
          "name": "stdout"
        }
      ]
    },
    {
      "cell_type": "code",
      "metadata": {
        "id": "9WAFSYXHfWBR",
        "colab_type": "code",
        "outputId": "38f3147c-a311-4f86-c0fc-c4b06e0a2314",
        "colab": {
          "base_uri": "https://localhost:8080/",
          "height": 281
        }
      },
      "source": [
        "import numpy as np\n",
        "import matplotlib.pyplot as plt\n",
        "train_images = np.loadtxt('data/train_images.txt')\n",
        "train_labels = np.loadtxt('data/train_labels.txt', 'float').astype(np.int)\n",
        "test_images = np.loadtxt('data/test_images.txt')\n",
        "test_labels = np.loadtxt('data/test_labels.txt', 'float').astype(np.int)\n",
        "\n",
        " # tipul de date int\n",
        "image = train_images[0, :] # prima imagine\n",
        "image = np.reshape(image, (28, 28))\n",
        "plt.title(train_labels[0])\n",
        "plt.imshow(image.astype(np.uint8), cmap='gray')\n",
        "plt.show()"
      ],
      "execution_count": 28,
      "outputs": [
        {
          "output_type": "display_data",
          "data": {
            "image/png": "[encoded data removed]",
            "text/plain": [
              "<Figure size 432x288 with 1 Axes>"
            ]
          },
          "metadata": {
            "tags": [],
            "needs_background": "light"
          }
        }
      ]
    },
    {
      "cell_type": "code",
      "metadata": {
        "id": "Lu3xLj2hfZe8",
        "colab_type": "code",
        "colab": {}
      },
      "source": [
        "# K Nearest Neighbor\n",
        "from sklearn.neighbors import KNeighborsClassifier"
      ],
      "execution_count": 0,
      "outputs": []
    },
    {
      "cell_type": "code",
      "metadata": {
        "id": "qrxEuScPfgbQ",
        "colab_type": "code",
        "outputId": "254fb604-b80a-4ae8-a7a4-5193ab50a52b",
        "colab": {
          "base_uri": "https://localhost:8080/",
          "height": 34
        }
      },
      "source": [
        "# Diferenta dintre L1  si L2 pentru 5\n",
        "knn = KNeighborsClassifier(5, metric='l1')\n",
        "knn.fit(train_images, train_labels)\n",
        "knn.score(test_images, test_labels)"
      ],
      "execution_count": 30,
      "outputs": [
        {
          "output_type": "execute_result",
          "data": {
            "text/plain": [
              "0.868"
            ]
          },
          "metadata": {
            "tags": []
          },
          "execution_count": 30
        }
      ]
    },
    {
      "cell_type": "code",
      "metadata": {
        "id": "Jcld4lkZfkWi",
        "colab_type": "code",
        "outputId": "97fa26a3-589e-4234-a541-e99668a45491",
        "colab": {
          "base_uri": "https://localhost:8080/",
          "height": 34
        }
      },
      "source": [
        "knn = KNeighborsClassifier(5, metric='l2')\n",
        "knn.fit(train_images, train_labels)\n",
        "knn.score(test_images, test_labels)"
      ],
      "execution_count": 31,
      "outputs": [
        {
          "output_type": "execute_result",
          "data": {
            "text/plain": [
              "0.896"
            ]
          },
          "metadata": {
            "tags": []
          },
          "execution_count": 31
        }
      ]
    },
    {
      "cell_type": "code",
      "metadata": {
        "id": "Ts-YnkZJfyr8",
        "colab_type": "code",
        "outputId": "57b29fbe-ed15-4d26-a25c-4c8025e95f56",
        "colab": {
          "base_uri": "https://localhost:8080/",
          "height": 34
        }
      },
      "source": [
        "# Diferenta dintre L1  si L2 pentru 3\n",
        "knn = KNeighborsClassifier(3, metric='l1')\n",
        "knn.fit(train_images, train_labels)\n",
        "knn.score(test_images, test_labels)"
      ],
      "execution_count": 32,
      "outputs": [
        {
          "output_type": "execute_result",
          "data": {
            "text/plain": [
              "0.884"
            ]
          },
          "metadata": {
            "tags": []
          },
          "execution_count": 32
        }
      ]
    },
    {
      "cell_type": "code",
      "metadata": {
        "id": "L17F8iKtf2R_",
        "colab_type": "code",
        "outputId": "f989ed58-01fd-46db-f6aa-635f24c2db4c",
        "colab": {
          "base_uri": "https://localhost:8080/",
          "height": 34
        }
      },
      "source": [
        "knn = KNeighborsClassifier(3, metric='l2')\n",
        "knn.fit(train_images, train_labels)\n",
        "knn.score(test_images, test_labels)"
      ],
      "execution_count": 33,
      "outputs": [
        {
          "output_type": "execute_result",
          "data": {
            "text/plain": [
              "0.898"
            ]
          },
          "metadata": {
            "tags": []
          },
          "execution_count": 33
        }
      ]
    },
    {
      "cell_type": "code",
      "metadata": {
        "id": "63ej4nyUf72C",
        "colab_type": "code",
        "outputId": "6aeb872d-c7d8-45a6-d230-01b869a4cfad",
        "colab": {
          "base_uri": "https://localhost:8080/",
          "height": 34
        }
      },
      "source": [
        "def L1(img, imgs):\n",
        "    return np.sum(np.abs(img - imgs), axis=1)\n",
        "\n",
        "def L2(img, imgs):\n",
        "    return np.sqrt(np.sum(np.power(img - imgs, 2), axis=1))\n",
        "\n",
        "class KnnClassifier:\n",
        "    def __init__(self, train_images, train_labels):\n",
        "        self.train_images = train_images\n",
        "        self.train_labels = train_labels\n",
        "\n",
        "    def fit(self, train_images, train_labels):\n",
        "        self.train_images = train_images\n",
        "        self.train_labels = train_labels\n",
        "\n",
        "    def classify_image(self, test_image, num_neighbors=3, metric='l2'):\n",
        "        # 1. Calculati distanta de la test_image la toate train_images -> [201, 2001, 842, 723, ...] (np.linalg.norm - calculeaza norma L1 sau L2 sau altele)\n",
        "        if metric == 'l1':\n",
        "            dists = L1(test_image, self.train_images)\n",
        "        else:\n",
        "            dists = L2(test_image, self.train_images)\n",
        "        # 2. Sortam arrayul de distante crescator pastrand indicii (np.argsort - returneaza indicii in ordinea valorilor sortate)\n",
        "        indexes = np.argsort(dists)\n",
        "        # 3. Luam primii num_neighbours din array-ul sortat -> [3, 3, 2]\n",
        "        k_dists = indexes[:num_neighbors]\n",
        "        # 4. Numaram clasa dominanta -> 3  (np.bincount - numara cate aparitii de fiecare valoare exista) (np.argmax - returneaza indicele cu valoarea cea mai mare)\n",
        "        k_classes = self.train_labels[k_dists]\n",
        "        k_votes = np.bincount(k_classes)\n",
        "        return np.argmax(k_votes)\n",
        "\n",
        "    def predict(self, test_images, num_neighbors=3, metric='l2'):\n",
        "        preds = []\n",
        "        for test_image in test_images:\n",
        "            preds.append(self.classify_image(test_image, num_neighbors, metric))\n",
        "        return preds\n",
        "\n",
        "    def score(self, test_images, test_labels, num_neighbors=3, metric='l2'):\n",
        "        preds = self.predict(test_images, num_neighbors, metric)\n",
        "\n",
        "        return (preds == test_labels).mean()\n",
        "\n",
        "knn = KnnClassifier(train_images, train_labels)\n",
        "\n",
        "# 3. Calculați acuratețea metodei celor mai apropiați vecini pe mulțimea de testare\n",
        "# având ca distanța ‘l2’ și numărul de vecini 3. Salvați predicțiile în fișierul\n",
        "# predictii_3nn_l2_mnist.txt\n",
        "knn.score(test_images, test_labels)"
      ],
      "execution_count": 34,
      "outputs": [
        {
          "output_type": "execute_result",
          "data": {
            "text/plain": [
              "0.898"
            ]
          },
          "metadata": {
            "tags": []
          },
          "execution_count": 34
        }
      ]
    },
    {
      "cell_type": "code",
      "metadata": {
        "id": "0ynBcqDMgQWE",
        "colab_type": "code",
        "outputId": "28d2913d-369b-4184-d915-7fb6f17ffb0a",
        "colab": {
          "base_uri": "https://localhost:8080/",
          "height": 281
        }
      },
      "source": [
        "image = test_images[9, :] # prima imagine\n",
        "image = np.reshape(image, (28, 28))\n",
        "plt.title(test_labels[0])\n",
        "plt.imshow(image.astype(np.uint8), cmap='gray')\n",
        "plt.show()"
      ],
      "execution_count": 35,
      "outputs": [
        {
          "output_type": "display_data",
          "data": {
            "image/png": "[encoded data removed]",
            "text/plain": [
              "<Figure size 432x288 with 1 Axes>"
            ]
          },
          "metadata": {
            "tags": [],
            "needs_background": "light"
          }
        }
      ]
    },
    {
      "cell_type": "code",
      "metadata": {
        "id": "cJJXlbqigZeK",
        "colab_type": "code",
        "colab": {}
      },
      "source": [
        "# 4. Calculați acuratețea metodei celor mai apropiați vecini pe mulțimea de testare\n",
        "# având ca distanța L2 și numărul de vecini ∈ [1, 3, 5, 7, 9].\n",
        "\n",
        "ks = [1, 3, 5, 7, 9]"
      ],
      "execution_count": 0,
      "outputs": []
    },
    {
      "cell_type": "code",
      "metadata": {
        "id": "N5GEF3pegyUh",
        "colab_type": "code",
        "outputId": "bc75ff68-14bd-46d7-be94-4ebd5a7cc3db",
        "colab": {
          "base_uri": "https://localhost:8080/",
          "height": 265
        }
      },
      "source": [
        "# a) Plotați un grafic cu acuratețea obținuta pentru fiecare vecin \n",
        "\n",
        "acc = [knn.score(test_images, test_labels, num_neighbors=x, metric='l2') for x in ks]\n",
        "plt.plot(ks, acc)\n",
        "plt.show()"
      ],
      "execution_count": 37,
      "outputs": [
        {
          "output_type": "display_data",
          "data": {
            "image/png": "[encoded data removed]",
            "text/plain": [
              "<Figure size 432x288 with 1 Axes>"
            ]
          },
          "metadata": {
            "tags": [],
            "needs_background": "light"
          }
        }
      ]
    },
    {
      "cell_type": "code",
      "metadata": {
        "id": "cG04pFA5gz98",
        "colab_type": "code",
        "outputId": "896985f0-10af-441e-dd4a-2cbc4baf8aca",
        "colab": {
          "base_uri": "https://localhost:8080/",
          "height": 265
        }
      },
      "source": [
        "# b) Repetați punctul anterior pentru distanța L1. Plotați graficul de la\n",
        "# punctul anterior în aceeași figură cu graficul curent \n",
        "\n",
        "acc_l1 = [knn.score(test_images, test_labels, num_neighbors=x, metric='l1') for x in ks]\n",
        "plt.plot(ks, acc)\n",
        "plt.plot(ks, acc_l1)\n",
        "plt.show()"
      ],
      "execution_count": 38,
      "outputs": [
        {
          "output_type": "display_data",
          "data": {
            "image/png": "[encoded data removed]",
            "text/plain": [
              "<Figure size 432x288 with 1 Axes>"
            ]
          },
          "metadata": {
            "tags": [],
            "needs_background": "light"
          }
        }
      ]
    }
  ]
}