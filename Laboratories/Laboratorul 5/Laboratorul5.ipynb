{
  "nbformat": 4,
  "nbformat_minor": 0,
  "metadata": {
    "colab": {
      "name": "Laboratorul5.ipynb",
      "provenance": []
    },
    "kernelspec": {
      "name": "python3",
      "display_name": "Python 3"
    }
  },
  "cells": [
    {
      "cell_type": "code",
      "metadata": {
        "id": "GwOxHv4V0p1u",
        "colab_type": "code",
        "colab": {}
      },
      "source": [
        "import numpy as np"
      ],
      "execution_count": 0,
      "outputs": []
    },
    {
      "cell_type": "code",
      "metadata": {
        "id": "vUop8CyR1lU4",
        "colab_type": "code",
        "outputId": "a207d59c-be70-43f2-a9cd-ffe1c233b563",
        "colab": {
          "base_uri": "https://localhost:8080/",
          "height": 202
        }
      },
      "source": [
        "!wget https://fmi-unibuc-ia.github.io/ia/Data/data_lab5.zip"
      ],
      "execution_count": 5,
      "outputs": [
        {
          "output_type": "stream",
          "text": [
            "--2020-05-06 07:20:55--  https://fmi-unibuc-ia.github.io/ia/Data/data_lab5.zip\n",
            "Resolving fmi-unibuc-ia.github.io (fmi-unibuc-ia.github.io)... 185.199.109.153, 185.199.111.153, 185.199.108.153, ...\n",
            "Connecting to fmi-unibuc-ia.github.io (fmi-unibuc-ia.github.io)|185.199.109.153|:443... connected.\n",
            "HTTP request sent, awaiting response... 200 OK\n",
            "Length: 503740 (492K) [application/zip]\n",
            "Saving to: ‘data_lab5.zip.4’\n",
            "\n",
            "\rdata_lab5.zip.4       0%[                    ]       0  --.-KB/s               \rdata_lab5.zip.4     100%[===================>] 491.93K  --.-KB/s    in 0.05s   \n",
            "\n",
            "2020-05-06 07:20:55 (10.1 MB/s) - ‘data_lab5.zip.4’ saved [503740/503740]\n",
            "\n"
          ],
          "name": "stdout"
        }
      ]
    },
    {
      "cell_type": "code",
      "metadata": {
        "id": "AA5jCsS71ndQ",
        "colab_type": "code",
        "outputId": "6b97290b-22b6-4e05-9573-f667ff4269b7",
        "colab": {
          "base_uri": "https://localhost:8080/",
          "height": 118
        }
      },
      "source": [
        "!unzip data_lab5.zip"
      ],
      "execution_count": 6,
      "outputs": [
        {
          "output_type": "stream",
          "text": [
            "Archive:  data_lab5.zip\n",
            "replace data/test_labels.npy? [y]es, [n]o, [A]ll, [N]one, [r]ename: A\n",
            "  inflating: data/test_labels.npy    \n",
            "  inflating: data/test_sentences.npy  \n",
            "  inflating: data/training_labels.npy  \n",
            "  inflating: data/training_sentences.npy  \n"
          ],
          "name": "stdout"
        }
      ]
    },
    {
      "cell_type": "code",
      "metadata": {
        "id": "dR0S9S171r5K",
        "colab_type": "code",
        "colab": {}
      },
      "source": [
        "train_data = np.load('data/training_sentences.npy', allow_pickle=True)\n",
        "train_labels = np.load('data/training_labels.npy')\n",
        "\n",
        "test_data = np.load('data/test_sentences.npy', allow_pickle=True)\n",
        "test_labels = np.load('data/test_labels.npy')"
      ],
      "execution_count": 0,
      "outputs": []
    },
    {
      "cell_type": "code",
      "metadata": {
        "id": "D7LKK9Ud13lj",
        "colab_type": "code",
        "outputId": "831a8bb4-1234-4df7-add5-7de3d73c70b2",
        "colab": {
          "base_uri": "https://localhost:8080/",
          "height": 34
        }
      },
      "source": [
        "train_data[0]"
      ],
      "execution_count": 8,
      "outputs": [
        {
          "output_type": "execute_result",
          "data": {
            "text/plain": [
              "['Probably', 'not', 'still', 'going', 'over', 'some', 'stuff', 'here']"
            ]
          },
          "metadata": {
            "tags": []
          },
          "execution_count": 8
        }
      ]
    },
    {
      "cell_type": "code",
      "metadata": {
        "id": "UWtIA8fp2Cvz",
        "colab_type": "code",
        "outputId": "08981cb1-4eb5-4b96-9d24-ea56f04352d9",
        "colab": {
          "base_uri": "https://localhost:8080/",
          "height": 222
        }
      },
      "source": [
        "train_data[:10]"
      ],
      "execution_count": 9,
      "outputs": [
        {
          "output_type": "execute_result",
          "data": {
            "text/plain": [
              "array([list(['Probably', 'not', 'still', 'going', 'over', 'some', 'stuff', 'here']),\n",
              "       list(['I', 'HAVE', 'A', 'DATE', 'ON', 'SUNDAY', 'WITH', 'WILL']),\n",
              "       list(['Thanks', '4', 'your', 'continued', 'support', 'Your', 'question', 'this', 'week', 'will', 'enter', 'u', 'in2', 'our', 'draw', '4', 'Â£100', 'cash', 'Name', 'the', 'NEW', 'US', 'President', 'txt', 'ans', 'to', '80082']),\n",
              "       list(['Dear', '0776xxxxxxx', 'Uve', 'been', 'invited', 'to', 'XCHAT', 'This', 'is', 'our', 'final', 'attempt', 'to', 'contact', 'u', 'Txt', 'CHAT', 'to', '86688', '150pMsgrcvdHGSuite3422LandsRowW1J6HL', 'LDN', '18yrs']),\n",
              "       list(['I', 'sent', 'my', 'scores', 'to', 'sophas', 'and', 'i', 'had', 'to', 'do', 'secondary', 'application', 'for', 'a', 'few', 'schools', 'I', 'think', 'if', 'you', 'are', 'thinking', 'of', 'applying', 'do', 'a', 'research', 'on', 'cost', 'also', 'Contact', 'joke', 'ogunrinde', 'her', 'school', 'is', 'one', 'me', 'the', 'less', 'expensive', 'ones']),\n",
              "       list(['Kothi', 'print', 'out', 'marandratha']),\n",
              "       list(['Arun', 'can', 'u', 'transfr', 'me', 'd', 'amt']),\n",
              "       list(['I', 'asked', 'you', 'to', 'call', 'him', 'now', 'ok']),\n",
              "       list(['Ringtone', 'Club', 'Gr8', 'new', 'polys', 'direct', 'to', 'your', 'mobile', 'every', 'week']),\n",
              "       list(['Hello', 'Just', 'got', 'here', 'st', 'andrewsboy', 'its', 'a', 'long', 'way', 'Its', 'cold', 'I', 'will', 'keep', 'you', 'posted'])],\n",
              "      dtype=object)"
            ]
          },
          "metadata": {
            "tags": []
          },
          "execution_count": 9
        }
      ]
    },
    {
      "cell_type": "code",
      "metadata": {
        "id": "r5IHHynR4fkt",
        "colab_type": "code",
        "colab": {}
      },
      "source": [
        "# Modelul bag-of-words"
      ],
      "execution_count": 0,
      "outputs": []
    },
    {
      "cell_type": "code",
      "metadata": {
        "id": "iOICh6Di0-qJ",
        "colab_type": "code",
        "colab": {}
      },
      "source": [
        "# 3. Definiți clasa BagOfWords în al cărui constructor se inițializează vocabularul (un\n",
        "# dicționar gol). În cadrul ei implementați metoda build_vocabulary(self, data) care\n",
        "# primește ca parametru o listă de mesaje(listă de liste de strings) și construiește\n",
        "# vocabularul pe baza acesteia. Cheile dicționarului sunt reprezentate de cuvintele din\n",
        "# eseuri, iar valorile de id-urile unice atribuite cuvintelor. Pe lângă vocabularul pe care-l\n",
        "# construiți, rețineți și o listă cu cuvintele în ordinea adăugării în vocabular.\n",
        "# Afișați dimensiunea vocabularul construit (9522).\n",
        "\n",
        "class BagOfWords:\n",
        "\n",
        "    def __init__(self):\n",
        "        self.vocab = {} # dictionar cuvant -> idx\n",
        "        self.words = [] # lista de cuvinte\n",
        "\n",
        "    def build_vocabulary(self, train_data):\n",
        "        for sentence in train_data:\n",
        "            for word in sentence:\n",
        "                if word not in self.vocab:\n",
        "                    self.vocab[word] = len(self.words)\n",
        "                    self.words.append(word)\n",
        "        return len(self.words)\n",
        "\n",
        "    # 4. Definiți metoda get_features(self, data) care primește ca parametru o listă de\n",
        "    # mesaje de dimensiune 𝑛𝑢𝑚_𝑠𝑎𝑚𝑝𝑙𝑒𝑠(listă de liste de strings) și returnează o matrice\n",
        "    # de dimensiune (𝑛𝑢𝑚_𝑠𝑎𝑚𝑝𝑙𝑒𝑠 x 𝑑𝑖𝑐𝑡𝑖𝑜𝑛𝑎𝑟𝑦_𝑙𝑒𝑛𝑔𝑡ℎ) definită astfel:\n",
        "\n",
        "    def get_features(self, data):\n",
        "        result = np.zeros((data.shape[0], len(self.words)),dtype='uint16')\n",
        "        for idx, sentence in enumerate(data):\n",
        "            for word in sentence:\n",
        "                if word in self.vocab:\n",
        "                    result[idx, self.vocab[word]] += 1\n",
        "        return result"
      ],
      "execution_count": 0,
      "outputs": []
    },
    {
      "cell_type": "code",
      "metadata": {
        "id": "QwBSWt811ZA1",
        "colab_type": "code",
        "outputId": "1bfec34e-ff93-46fb-8a71-6f7ac7aaa617",
        "colab": {
          "base_uri": "https://localhost:8080/",
          "height": 34
        }
      },
      "source": [
        "bow = BagOfWords()\n",
        "print(bow.build_vocabulary(train_data))"
      ],
      "execution_count": 11,
      "outputs": [
        {
          "output_type": "stream",
          "text": [
            "9522\n"
          ],
          "name": "stdout"
        }
      ]
    },
    {
      "cell_type": "code",
      "metadata": {
        "id": "TU9dYruy2RuM",
        "colab_type": "code",
        "outputId": "059c9ebc-5f40-4f29-dddf-026a428ebda3",
        "colab": {
          "base_uri": "https://localhost:8080/",
          "height": 151
        }
      },
      "source": [
        "train_features = bow.get_features(train_data)\n",
        "\n",
        "print(train_features.shape)\n",
        "print(train_features)"
      ],
      "execution_count": 12,
      "outputs": [
        {
          "output_type": "stream",
          "text": [
            "(3734, 9522)\n",
            "[[1 1 1 ... 0 0 0]\n",
            " [0 0 0 ... 0 0 0]\n",
            " [0 0 0 ... 0 0 0]\n",
            " ...\n",
            " [0 0 0 ... 1 1 0]\n",
            " [0 0 0 ... 0 0 1]\n",
            " [0 0 0 ... 0 0 0]]\n"
          ],
          "name": "stdout"
        }
      ]
    },
    {
      "cell_type": "code",
      "metadata": {
        "id": "wGGETOgO3LL6",
        "colab_type": "code",
        "outputId": "29b9091b-78ff-4bdd-e044-9e389d9e3490",
        "colab": {
          "base_uri": "https://localhost:8080/",
          "height": 50
        }
      },
      "source": [
        "print(train_data[1])\n",
        "print(train_features[1][:20])"
      ],
      "execution_count": 13,
      "outputs": [
        {
          "output_type": "stream",
          "text": [
            "['I', 'HAVE', 'A', 'DATE', 'ON', 'SUNDAY', 'WITH', 'WILL']\n",
            "[0 0 0 0 0 0 0 0 1 1 1 1 1 1 1 1 0 0 0 0]\n"
          ],
          "name": "stdout"
        }
      ]
    },
    {
      "cell_type": "code",
      "metadata": {
        "id": "ymTCgkPA351k",
        "colab_type": "code",
        "outputId": "6c540b56-b52f-4b7c-b45c-43541c0fba49",
        "colab": {
          "base_uri": "https://localhost:8080/",
          "height": 70
        }
      },
      "source": [
        "print(train_data[102])\n",
        "print(train_features[102][:20])"
      ],
      "execution_count": 14,
      "outputs": [
        {
          "output_type": "stream",
          "text": [
            "['Babe', 'U', 'want', 'me', 'dont', 'u', 'baby', 'Im', 'nasty', 'and', 'have', 'a', 'thing', '4', 'filthyguys', 'Fancy', 'a', 'rude', 'time', 'with', 'a', 'sexy', 'bitch', 'How', 'about', 'we', 'go', 'slo', 'n', 'hard', 'Txt', 'XXX', 'SLO4msgs']\n",
            "[0 0 0 0 0 0 0 0 0 0 0 0 0 0 0 0 0 1 0 0]\n"
          ],
          "name": "stdout"
        }
      ]
    },
    {
      "cell_type": "code",
      "metadata": {
        "id": "uprXe5z-3f_y",
        "colab_type": "code",
        "outputId": "798b4317-9b96-4ed9-d385-0529b2d5fa04",
        "colab": {
          "base_uri": "https://localhost:8080/",
          "height": 54
        }
      },
      "source": [
        "print([(x, bow.vocab[x]) for x in train_data[102]])"
      ],
      "execution_count": 15,
      "outputs": [
        {
          "output_type": "stream",
          "text": [
            "[('Babe', 799), ('U', 168), ('want', 800), ('me', 90), ('dont', 247), ('u', 27), ('baby', 801), ('Im', 334), ('nasty', 802), ('and', 63), ('have', 471), ('a', 70), ('thing', 482), ('4', 17), ('filthyguys', 803), ('Fancy', 804), ('a', 70), ('rude', 805), ('time', 145), ('with', 195), ('a', 70), ('sexy', 806), ('bitch', 807), ('How', 414), ('about', 189), ('we', 268), ('go', 307), ('slo', 808), ('n', 542), ('hard', 809), ('Txt', 53), ('XXX', 810), ('SLO4msgs', 811)]\n"
          ],
          "name": "stdout"
        }
      ]
    },
    {
      "cell_type": "code",
      "metadata": {
        "id": "mQvCAGMa3_6y",
        "colab_type": "code",
        "outputId": "4e9ddaa4-12f6-4841-d884-3cc00f5793a2",
        "colab": {
          "base_uri": "https://localhost:8080/",
          "height": 151
        }
      },
      "source": [
        "test_features = bow.get_features(test_data)\n",
        "\n",
        "print(test_features.shape)\n",
        "print(test_features)"
      ],
      "execution_count": 16,
      "outputs": [
        {
          "output_type": "stream",
          "text": [
            "(1840, 9522)\n",
            "[[0 0 1 ... 0 0 0]\n",
            " [0 0 0 ... 0 0 0]\n",
            " [0 0 0 ... 0 0 0]\n",
            " ...\n",
            " [0 0 0 ... 0 0 0]\n",
            " [0 0 0 ... 0 0 0]\n",
            " [0 0 0 ... 0 0 0]]\n"
          ],
          "name": "stdout"
        }
      ]
    },
    {
      "cell_type": "code",
      "metadata": {
        "id": "aCBInNpN4k42",
        "colab_type": "code",
        "colab": {}
      },
      "source": [
        "# Normalizarea datelor "
      ],
      "execution_count": 0,
      "outputs": []
    },
    {
      "cell_type": "code",
      "metadata": {
        "id": "iExE0ZV04pVS",
        "colab_type": "code",
        "colab": {}
      },
      "source": [
        "# 2. Definiți funcția normalize_data(train_data, test_data, type=None) care primește ca\n",
        "# parametri datele de antrenare, respectiv de testare și tipul de normalizare ({None,\n",
        "# ‘standard’, ‘min_max’, ‘l1’, ‘l2’}) și întoarce aceste date normalizate. \n",
        "\n",
        "from sklearn import preprocessing\n",
        "\n",
        "def normalize_data(train_data, test_data, type=None):\n",
        "    scaler = None\n",
        "    if type == 'standard':\n",
        "        scaler = preprocessing.StandardScaler()\n",
        "\n",
        "    elif type == 'min_max':\n",
        "        scaler = preprocessing.MinMaxScaler()\n",
        "\n",
        "    elif type == 'l1' or type == 'l2':\n",
        "        scaler = preprocessing.Normalizer(norm=type)\n",
        "\n",
        "    if scaler is not None:\n",
        "        scaler.fit(train_data)\n",
        "        scaled_train_data = scaler.transform(train_data)\n",
        "        scaled_test_data = scaler.transform(test_data)\n",
        "        return scaled_train_data, scaled_test_data\n",
        "    else:\n",
        "        return train_data, test_data"
      ],
      "execution_count": 0,
      "outputs": []
    },
    {
      "cell_type": "code",
      "metadata": {
        "id": "2nm6Dr---VXU",
        "colab_type": "code",
        "outputId": "58effb25-e530-49aa-af43-48c79e7c3d11",
        "colab": {
          "base_uri": "https://localhost:8080/",
          "height": 151
        }
      },
      "source": [
        "# 5. Cu ajutorul funcțiilor definite anterior, obțineți reprezentările BOW pentru mulțimea de\n",
        "# antrenare și testare, apoi normalizați-le folosind norma “L2”.\n",
        "\n",
        "test_features = bow.get_features(test_data)\n",
        "\n",
        "print(test_features.shape)\n",
        "print(test_features)"
      ],
      "execution_count": 18,
      "outputs": [
        {
          "output_type": "stream",
          "text": [
            "(1840, 9522)\n",
            "[[0 0 1 ... 0 0 0]\n",
            " [0 0 0 ... 0 0 0]\n",
            " [0 0 0 ... 0 0 0]\n",
            " ...\n",
            " [0 0 0 ... 0 0 0]\n",
            " [0 0 0 ... 0 0 0]\n",
            " [0 0 0 ... 0 0 0]]\n"
          ],
          "name": "stdout"
        }
      ]
    },
    {
      "cell_type": "code",
      "metadata": {
        "id": "wR_0l926_UZh",
        "colab_type": "code",
        "outputId": "ec722931-e267-466f-edbb-18dc9a82d67e",
        "colab": {
          "base_uri": "https://localhost:8080/",
          "height": 235
        }
      },
      "source": [
        "norm_train_features, norm_test_features = normalize_data(train_features, test_features, 'l2')\n",
        "\n",
        "norm_train_features"
      ],
      "execution_count": 19,
      "outputs": [
        {
          "output_type": "execute_result",
          "data": {
            "text/plain": [
              "array([[0.35355339, 0.35355339, 0.35355339, ..., 0.        , 0.        ,\n",
              "        0.        ],\n",
              "       [0.        , 0.        , 0.        , ..., 0.        , 0.        ,\n",
              "        0.        ],\n",
              "       [0.        , 0.        , 0.        , ..., 0.        , 0.        ,\n",
              "        0.        ],\n",
              "       ...,\n",
              "       [0.        , 0.        , 0.        , ..., 0.19611614, 0.19611614,\n",
              "        0.        ],\n",
              "       [0.        , 0.        , 0.        , ..., 0.        , 0.        ,\n",
              "        0.33333333],\n",
              "       [0.        , 0.        , 0.        , ..., 0.        , 0.        ,\n",
              "        0.        ]])"
            ]
          },
          "metadata": {
            "tags": []
          },
          "execution_count": 19
        }
      ]
    },
    {
      "cell_type": "code",
      "metadata": {
        "id": "aQEYdmjM59Cc",
        "colab_type": "code",
        "colab": {
          "base_uri": "https://localhost:8080/",
          "height": 202
        },
        "outputId": "a9e5c807-8384-485c-8c64-0e388fa6368e"
      },
      "source": [
        "!wget https://fmi-unibuc-ia.github.io/ia/Data/Lab%205%20-%20toy%20example%20-%20SVM.zip"
      ],
      "execution_count": 32,
      "outputs": [
        {
          "output_type": "stream",
          "text": [
            "--2020-05-06 07:35:45--  https://fmi-unibuc-ia.github.io/ia/Data/Lab%205%20-%20toy%20example%20-%20SVM.zip\n",
            "Resolving fmi-unibuc-ia.github.io (fmi-unibuc-ia.github.io)... 185.199.111.153, 185.199.108.153, 185.199.110.153, ...\n",
            "Connecting to fmi-unibuc-ia.github.io (fmi-unibuc-ia.github.io)|185.199.111.153|:443... connected.\n",
            "HTTP request sent, awaiting response... 200 OK\n",
            "Length: 34422 (34K) [application/zip]\n",
            "Saving to: ‘Lab 5 - toy example - SVM.zip.1’\n",
            "\n",
            "\r          Lab 5 - t   0%[                    ]       0  --.-KB/s               \rLab 5 - toy example 100%[===================>]  33.62K  --.-KB/s    in 0.007s  \n",
            "\n",
            "2020-05-06 07:35:45 (4.65 MB/s) - ‘Lab 5 - toy example - SVM.zip.1’ saved [34422/34422]\n",
            "\n"
          ],
          "name": "stdout"
        }
      ]
    },
    {
      "cell_type": "code",
      "metadata": {
        "id": "cM7bAyfM6dOV",
        "colab_type": "code",
        "colab": {
          "base_uri": "https://localhost:8080/",
          "height": 101
        },
        "outputId": "86ff86e7-a261-4edf-e9ed-9147bd1707ec"
      },
      "source": [
        "!unzip 'Lab 5 - toy example - SVM.zip'"
      ],
      "execution_count": 38,
      "outputs": [
        {
          "output_type": "stream",
          "text": [
            "Archive:  Lab 5 - toy example - SVM.zip\n",
            "replace data/svm_train_data.npy? [y]es, [n]o, [A]ll, [N]one, [r]ename: A\n",
            "  inflating: data/svm_train_data.npy  \n",
            "  inflating: data/svm_train_labels.npy  \n",
            "  inflating: Lab 5 - toy example - SVM.ipynb  \n"
          ],
          "name": "stdout"
        }
      ]
    },
    {
      "cell_type": "code",
      "metadata": {
        "id": "AKD9QZRF7SVG",
        "colab_type": "code",
        "colab": {}
      },
      "source": [
        "# 1. Descărcați arhiva de aici și observați cum funcționează modelul SVM.\n",
        "from sklearn.svm import SVC\n",
        "from sklearn.model_selection import train_test_split\n",
        "\n",
        "svm_train_data   = np.load('data/svm_train_data.npy', allow_pickle=True)\n",
        "svm_train_labels = np.load('data/svm_train_labels.npy', allow_pickle=True).astype(np.bool)\n",
        "\n",
        "X_train, X_valid, y_train, y_valid = train_test_split(svm_train_data, svm_train_labels, test_size=0.2, random_state=42)"
      ],
      "execution_count": 0,
      "outputs": []
    },
    {
      "cell_type": "code",
      "metadata": {
        "id": "xKCRqAAr7Uuo",
        "colab_type": "code",
        "colab": {
          "base_uri": "https://localhost:8080/",
          "height": 34
        },
        "outputId": "c7bbcf45-c462-49cb-8aa2-e269b6aa55ec"
      },
      "source": [
        "svc = SVC(0.1, 'linear')\n",
        "svc.fit(X_train, y_train)\n",
        "svc.score(X_valid, y_valid)"
      ],
      "execution_count": 51,
      "outputs": [
        {
          "output_type": "execute_result",
          "data": {
            "text/plain": [
              "1.0"
            ]
          },
          "metadata": {
            "tags": []
          },
          "execution_count": 51
        }
      ]
    },
    {
      "cell_type": "code",
      "metadata": {
        "id": "WX-YA8sF_wFM",
        "colab_type": "code",
        "colab": {}
      },
      "source": [
        "# 6.\n",
        "from sklearn import svm\n",
        "\n",
        "model = svm.SVC(C=1.0, kernel='linear')\n",
        "model.fit(norm_train_features, train_labels)"
      ],
      "execution_count": 0,
      "outputs": []
    },
    {
      "cell_type": "code",
      "metadata": {
        "id": "idL6ZkOM2l-A",
        "colab_type": "code",
        "colab": {
          "base_uri": "https://localhost:8080/",
          "height": 168
        },
        "outputId": "15cf9c2e-cba4-4406-b8b9-198d6b9d34ce"
      },
      "source": [
        "#  Calculați acuratețea și F1-score pentrumulțimea de testare\n",
        "\n",
        "from sklearn.metrics import accuracy_score, f1_score, classification_report\n",
        "\n",
        "test_preds = model.predict(norm_test_features)\n",
        "accuracy_score(test_labels, test_preds)\n",
        "f1_score(test_labels, test_preds)\n",
        "print(classification_report(test_labels, test_preds))"
      ],
      "execution_count": 55,
      "outputs": [
        {
          "output_type": "stream",
          "text": [
            "              precision    recall  f1-score   support\n",
            "\n",
            "           0       0.99      1.00      0.99      1585\n",
            "           1       0.98      0.91      0.94       255\n",
            "\n",
            "    accuracy                           0.98      1840\n",
            "   macro avg       0.98      0.95      0.97      1840\n",
            "weighted avg       0.98      0.98      0.98      1840\n",
            "\n"
          ],
          "name": "stdout"
        }
      ]
    },
    {
      "cell_type": "code",
      "metadata": {
        "id": "2zXs3fpu1nHh",
        "colab_type": "code",
        "colab": {
          "base_uri": "https://localhost:8080/",
          "height": 50
        },
        "outputId": "192f050a-bc47-4678-f0ca-2165816f66ea"
      },
      "source": [
        "# Afișați cele mai negative (spam) 10 cuvinte și cele mai pozitive (non-spam) 10 cuvinte.\n",
        "\n",
        "import numpy as np\n",
        "\n",
        "weights = np.squeeze(model.coef_)\n",
        "indexes = np.argsort(weights)\n",
        "words = np.array(bow.words)\n",
        "print('NEGATIVE', words[indexes[-10:]]) # Spam words\n",
        "print('POSITIVE', words[indexes[:10]]) # Good words"
      ],
      "execution_count": 59,
      "outputs": [
        {
          "output_type": "stream",
          "text": [
            "NEGATIVE ['Text' 'To' 'mobile' 'CALL' 'FREE' 'txt' '&' 'Call' 'Txt' 'STOP']\n",
            "POSITIVE ['&lt#&gt' 'me' 'i' 'Going' 'him' 'Ok' 'I' 'Ill' 'my' 'Im']\n"
          ],
          "name": "stdout"
        }
      ]
    },
    {
      "cell_type": "code",
      "metadata": {
        "id": "Q6heIYnsA-6b",
        "colab_type": "code",
        "colab": {
          "base_uri": "https://localhost:8080/",
          "height": 521
        },
        "outputId": "fba3ba71-4c29-4b53-d611-378fa24e7a1c"
      },
      "source": [
        "# Antrenati un SVM pe datele de mai sus folosind urmatoarele valori pt C\n",
        "for C in [0.1, 0.3, 0.7]:\n",
        "    model = svm.SVC(C=C, kernel='linear')\n",
        "    model.fit(norm_train_features, train_labels)\n",
        "\n",
        "    #  Calculați acuratețea și F1-score pentrumulțimea de testare\n",
        "\n",
        "    from sklearn.metrics import accuracy_score, f1_score, classification_report\n",
        "\n",
        "    test_preds = model.predict(norm_test_features)\n",
        "    # print(accuracy_score(test_labels, test_preds))\n",
        "    # print(f1_score(test_labels, test_preds))\n",
        "    print(C)\n",
        "    print(classification_report(test_labels, test_preds))"
      ],
      "execution_count": 62,
      "outputs": [
        {
          "output_type": "stream",
          "text": [
            "0.1\n",
            "              precision    recall  f1-score   support\n",
            "\n",
            "           0       0.91      1.00      0.95      1585\n",
            "           1       1.00      0.40      0.57       255\n",
            "\n",
            "    accuracy                           0.92      1840\n",
            "   macro avg       0.96      0.70      0.76      1840\n",
            "weighted avg       0.92      0.92      0.90      1840\n",
            "\n",
            "0.3\n",
            "              precision    recall  f1-score   support\n",
            "\n",
            "           0       0.97      1.00      0.99      1585\n",
            "           1       1.00      0.82      0.90       255\n",
            "\n",
            "    accuracy                           0.97      1840\n",
            "   macro avg       0.98      0.91      0.94      1840\n",
            "weighted avg       0.97      0.97      0.97      1840\n",
            "\n",
            "0.7\n",
            "              precision    recall  f1-score   support\n",
            "\n",
            "           0       0.98      1.00      0.99      1585\n",
            "           1       0.97      0.89      0.93       255\n",
            "\n",
            "    accuracy                           0.98      1840\n",
            "   macro avg       0.98      0.94      0.96      1840\n",
            "weighted avg       0.98      0.98      0.98      1840\n",
            "\n"
          ],
          "name": "stdout"
        }
      ]
    },
    {
      "cell_type": "code",
      "metadata": {
        "id": "WdkeUl12BA6e",
        "colab_type": "code",
        "colab": {
          "base_uri": "https://localhost:8080/",
          "height": 319
        },
        "outputId": "22b0d002-8a94-4213-d76d-2b9ffb88f1e1"
      },
      "source": [
        "# Antrenati un SVM pe datele de mai sus folosind urmatoarele valori pt kernel\n",
        "for l in ['rbf','poly']:\n",
        "\n",
        "    model = svm.SVC(C=1.0, kernel=l)\n",
        "    model.fit(norm_train_features, train_labels)\n",
        "\n",
        "    #  Calculați acuratețea și F1-score pentrumulțimea de testare\n",
        "\n",
        "    from sklearn.metrics import accuracy_score, f1_score, classification_report\n",
        "\n",
        "    test_preds = model.predict(norm_test_features)\n",
        "    \n",
        "    print(C)\n",
        "    print(classification_report(test_labels, test_preds))"
      ],
      "execution_count": 61,
      "outputs": [
        {
          "output_type": "stream",
          "text": [
            "              precision    recall  f1-score   support\n",
            "\n",
            "           0       0.98      1.00      0.99      1585\n",
            "           1       1.00      0.87      0.93       255\n",
            "\n",
            "    accuracy                           0.98      1840\n",
            "   macro avg       0.99      0.93      0.96      1840\n",
            "weighted avg       0.98      0.98      0.98      1840\n",
            "\n",
            "              precision    recall  f1-score   support\n",
            "\n",
            "           0       0.94      1.00      0.97      1585\n",
            "           1       1.00      0.61      0.76       255\n",
            "\n",
            "    accuracy                           0.95      1840\n",
            "   macro avg       0.97      0.81      0.86      1840\n",
            "weighted avg       0.95      0.95      0.94      1840\n",
            "\n"
          ],
          "name": "stdout"
        }
      ]
    },
    {
      "cell_type": "code",
      "metadata": {
        "id": "-Sf2G70XB7Zq",
        "colab_type": "code",
        "colab": {}
      },
      "source": [
        ""
      ],
      "execution_count": 0,
      "outputs": []
    },
    {
      "cell_type": "code",
      "metadata": {
        "id": "_f0leiuJB8RR",
        "colab_type": "code",
        "colab": {}
      },
      "source": [
        "# Audio file"
      ],
      "execution_count": 0,
      "outputs": []
    },
    {
      "cell_type": "code",
      "metadata": {
        "id": "Mdk7SreQB-gj",
        "colab_type": "code",
        "colab": {}
      },
      "source": [
        "# sa facem specto-grame input la un cnn -> spectrogram + CNN\n",
        "# neural network audio classification -> raw + RNN (cel mai greu)\n",
        "# fft audio -> histograma (cea mai simpla),  pune in binuri -> FFT + Linear classifier (cel mai usor)\n",
        "\n",
        "# SA NU UIT DE NORMALIZARI"
      ],
      "execution_count": 0,
      "outputs": []
    }
  ]
}