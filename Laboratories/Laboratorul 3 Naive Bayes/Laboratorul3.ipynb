{
  "nbformat": 4,
  "nbformat_minor": 0,
  "metadata": {
    "colab": {
      "name": "Laboratorul3.ipynb",
      "provenance": []
    },
    "kernelspec": {
      "name": "python3",
      "display_name": "Python 3"
    }
  },
  "cells": [
    {
      "cell_type": "code",
      "metadata": {
        "id": "FoPU19Y1Yqxb",
        "colab_type": "code",
        "colab": {
          "base_uri": "https://localhost:8080/",
          "height": 202
        },
        "outputId": "0f240d5c-7655-4c90-ba99-1a18ed164da6"
      },
      "source": [
        "!wget https://fmi-unibuc-ia.github.io/ia/Data/data_MNIST.zip"
      ],
      "execution_count": 1,
      "outputs": [
        {
          "output_type": "stream",
          "text": [
            "--2020-04-28 10:44:12--  https://fmi-unibuc-ia.github.io/ia/Data/data_MNIST.zip\n",
            "Resolving fmi-unibuc-ia.github.io (fmi-unibuc-ia.github.io)... 185.199.111.153, 185.199.108.153, 185.199.109.153, ...\n",
            "Connecting to fmi-unibuc-ia.github.io (fmi-unibuc-ia.github.io)|185.199.111.153|:443... connected.\n",
            "HTTP request sent, awaiting response... 200 OK\n",
            "Length: 629644 (615K) [application/zip]\n",
            "Saving to: ‘data_MNIST.zip’\n",
            "\n",
            "\rdata_MNIST.zip        0%[                    ]       0  --.-KB/s               \rdata_MNIST.zip      100%[===================>] 614.89K  --.-KB/s    in 0.1s    \n",
            "\n",
            "2020-04-28 10:44:13 (6.20 MB/s) - ‘data_MNIST.zip’ saved [629644/629644]\n",
            "\n"
          ],
          "name": "stdout"
        }
      ]
    },
    {
      "cell_type": "code",
      "metadata": {
        "id": "9UZGqn8GYwC9",
        "colab_type": "code",
        "colab": {
          "base_uri": "https://localhost:8080/",
          "height": 101
        },
        "outputId": "c0694e55-1c36-4a6d-ebea-1473d964b154"
      },
      "source": [
        "!unzip data_MNIST.zip"
      ],
      "execution_count": 2,
      "outputs": [
        {
          "output_type": "stream",
          "text": [
            "Archive:  data_MNIST.zip\n",
            "  inflating: data/test_images.txt    \n",
            "  inflating: data/test_labels.txt    \n",
            "  inflating: data/train_images.txt   \n",
            "  inflating: data/train_labels.txt   \n"
          ],
          "name": "stdout"
        }
      ]
    },
    {
      "cell_type": "code",
      "metadata": {
        "id": "vqPHLt4kauKp",
        "colab_type": "code",
        "colab": {
          "base_uri": "https://localhost:8080/",
          "height": 281
        },
        "outputId": "d15d41f9-0919-4be6-990c-c7e552af3e28"
      },
      "source": [
        "# Plot imagine\n",
        "import numpy as np\n",
        "import matplotlib.pyplot as plt\n",
        "train_images = np.loadtxt('data/train_images.txt')\n",
        "train_labels = np.loadtxt('data/train_labels.txt', 'float').astype(np.int)\n",
        "\n",
        " # tipul de date int\n",
        "image = train_images[0, :] # prima imagine\n",
        "image = np.reshape(image, (28, 28))\n",
        "plt.title(train_labels[0])\n",
        "plt.imshow(image.astype(np.uint8), cmap='gray')\n",
        "plt.show()"
      ],
      "execution_count": 3,
      "outputs": [
        {
          "output_type": "display_data",
          "data": {
            "image/png": "[encoded data removed]",
            "text/plain": [
              "<Figure size 432x288 with 1 Axes>"
            ]
          },
          "metadata": {
            "tags": [],
            "needs_background": "light"
          }
        }
      ]
    },
    {
      "cell_type": "code",
      "metadata": {
        "id": "bArTQPngazFL",
        "colab_type": "code",
        "colab": {
          "base_uri": "https://localhost:8080/",
          "height": 1000
        },
        "outputId": "a7f2bd05-5aa8-4aad-d18c-52072b375b62"
      },
      "source": [
        "image"
      ],
      "execution_count": 4,
      "outputs": [
        {
          "output_type": "execute_result",
          "data": {
            "text/plain": [
              "array([[  0.,   0.,   0.,   0.,   0.,   0.,   0.,   0.,   0.,   0.,   0.,\n",
              "          0.,   0.,   0.,   0.,   0.,   0.,   0.,   0.,   0.,   0.,   0.,\n",
              "          0.,   0.,   0.,   0.,   0.,   0.],\n",
              "       [  0.,   0.,   0.,   0.,   0.,   0.,   0.,   0.,   0.,   0.,   0.,\n",
              "          0.,   0.,   0.,   0.,   0.,   0.,   0.,   0.,   0.,   0.,   0.,\n",
              "          0.,   0.,   0.,   0.,   0.,   0.],\n",
              "       [  0.,   0.,   0.,   0.,   0.,   0.,   0.,   0.,   0.,   0.,   0.,\n",
              "          0.,   0.,   0.,   0.,   0.,   0.,   0.,   0.,   0.,   0.,   0.,\n",
              "          0.,   0.,   0.,   0.,   0.,   0.],\n",
              "       [  0.,   0.,   0.,   0.,   0.,   0.,   0.,   0.,   0.,   0.,   0.,\n",
              "          0.,   0.,   0.,   0.,   0.,   0.,   0.,   0.,   0.,   0.,   0.,\n",
              "          0.,   0.,   0.,   0.,   0.,   0.],\n",
              "       [  0.,   0.,   0.,   0.,   0.,   0.,   0.,   0.,   0.,   0.,   0.,\n",
              "          0.,   0.,   0.,   0.,   0.,   0.,   0.,   0.,   0.,   0.,   0.,\n",
              "          0.,   0.,   0.,   0.,   0.,   0.],\n",
              "       [  0.,   0.,   0.,   0.,   0.,   0.,   0.,   0.,   0.,   0.,   5.,\n",
              "          5.,   0.,   0.,   0.,   0.,   0.,   0.,   0.,   0., 110., 255.,\n",
              "        197.,   3.,   0.,   0.,   0.,   0.],\n",
              "       [  0.,   0.,   0.,   0.,   0.,   0.,   0.,   0.,   0.,  27., 214.,\n",
              "        230., 107.,   0.,   0.,   0.,   0.,   0.,   0.,   5., 231., 253.,\n",
              "        253.,  12.,   0.,   0.,   0.,   0.],\n",
              "       [  0.,   0.,   0.,   0.,   0.,   0.,   0.,   0.,   0., 161., 253.,\n",
              "        253., 229.,  48.,   0.,   0.,   0.,   0.,   0.,  51., 242., 253.,\n",
              "        253., 199.,   0.,   0.,   0.,   0.],\n",
              "       [  0.,   0.,   0.,   0.,   0.,   0.,   0.,   0.,   4., 170., 253.,\n",
              "        253., 253., 191.,   0.,   0.,   0.,   0.,   0., 112., 253., 253.,\n",
              "        253., 241.,   0.,   0.,   0.,   0.],\n",
              "       [  0.,   0.,   0.,   0.,   0.,   0.,   0.,   0.,  47., 253., 253.,\n",
              "        253., 253., 176.,   0.,   0.,   0.,   0.,  73., 242., 253., 253.,\n",
              "        253., 129.,   0.,   0.,   0.,   0.],\n",
              "       [  0.,   0.,   0.,   0.,   0.,   0.,   0.,  16., 218., 253., 253.,\n",
              "        253., 199.,  25.,   0.,   0.,   0.,   0., 217., 253., 253., 253.,\n",
              "        253., 208.,   0.,   0.,   0.,   0.],\n",
              "       [  0.,   0.,   0.,   0.,   0.,   0.,  25., 126., 253., 253., 253.,\n",
              "        223.,  61.,   0.,   0.,   0.,   0.,  79., 241., 253., 253., 253.,\n",
              "        253., 232.,   0.,   0.,   0.,   0.],\n",
              "       [  0.,   0.,   0.,   0.,   0.,   9., 219., 253., 253., 253., 245.,\n",
              "         65.,   0.,   0.,   0.,   0., 140., 240., 253., 253., 253., 253.,\n",
              "        253., 129.,   0.,   0.,   0.,   0.],\n",
              "       [  0.,   0.,   0.,   0.,   2., 127., 253., 253., 253., 253., 241.,\n",
              "        155.,  56.,  56.,  56., 153., 239., 253., 253., 253., 253., 253.,\n",
              "        253., 129.,   0.,   0.,   0.,   0.],\n",
              "       [  0.,   0.,   0.,   0., 128., 253., 253., 253., 253., 253., 253.,\n",
              "        253., 253., 253., 253., 253., 253., 253., 253., 253., 253., 253.,\n",
              "        253.,  38.,   0.,   0.,   0.,   0.],\n",
              "       [  0.,   0.,   0.,   0., 194., 253., 253., 253., 253., 253., 253.,\n",
              "        253., 253., 253., 253., 253., 253., 253., 253., 253., 253., 253.,\n",
              "        253., 100.,   0.,   0.,   0.,   0.],\n",
              "       [  0.,   0.,   0.,   0., 181., 253., 253., 253., 253., 253., 253.,\n",
              "        253., 253., 253., 253., 253., 253., 253., 253., 253., 253., 253.,\n",
              "        253.,  93.,   0.,   0.,   0.,   0.],\n",
              "       [  0.,   0.,   0.,   0.,   2.,  55., 172., 172., 182., 241., 172.,\n",
              "        172., 172., 192., 253., 253., 253., 253., 224., 172.,  61.,  49.,\n",
              "         49.,   1.,   0.,   0.,   0.,   0.],\n",
              "       [  0.,   0.,   0.,   0.,   0.,   0.,   0.,   9., 157.,  82.,   0.,\n",
              "          0.,   0.,  63., 253., 253., 253., 253.,  57.,   0.,   0.,   0.,\n",
              "          0.,   0.,   0.,   0.,   0.,   0.],\n",
              "       [  0.,   0.,   0.,   0.,   0.,   0.,   0.,   4.,  32.,   0.,   0.,\n",
              "          0.,   0., 108., 253., 253., 253., 176.,  23.,   0.,   0.,   0.,\n",
              "          0.,   0.,   0.,   0.,   0.,   0.],\n",
              "       [  0.,   0.,   0.,   0.,   0.,   0.,   0.,   0.,   0.,   0.,   0.,\n",
              "          0.,  50., 245., 253., 253., 222.,  26.,   0.,   0.,   0.,   0.,\n",
              "          0.,   0.,   0.,   0.,   0.,   0.],\n",
              "       [  0.,   0.,   0.,   0.,   0.,   0.,   0.,   0.,   0.,   0.,   0.,\n",
              "         21., 199., 253., 253., 253.,  61.,   0.,   0.,   0.,   0.,   0.,\n",
              "          0.,   0.,   0.,   0.,   0.,   0.],\n",
              "       [  0.,   0.,   0.,   0.,   0.,   0.,   0.,   0.,   0.,   0.,   0.,\n",
              "         50., 253., 253., 253., 253.,  49.,   0.,   0.,   0.,   0.,   0.,\n",
              "          0.,   0.,   0.,   0.,   0.,   0.],\n",
              "       [  0.,   0.,   0.,   0.,   0.,   0.,   0.,   0.,   0.,   0.,   0.,\n",
              "          3., 183., 253., 253., 219.,  26.,   0.,   0.,   0.,   0.,   0.,\n",
              "          0.,   0.,   0.,   0.,   0.,   0.],\n",
              "       [  0.,   0.,   0.,   0.,   0.,   0.,   0.,   0.,   0.,   0.,   0.,\n",
              "          0., 180., 253., 253., 179.,   0.,   0.,   0.,   0.,   0.,   0.,\n",
              "          0.,   0.,   0.,   0.,   0.,   0.],\n",
              "       [  0.,   0.,   0.,   0.,   0.,   0.,   0.,   0.,   0.,   0.,   0.,\n",
              "          0.,   0.,   0.,   0.,   0.,   0.,   0.,   0.,   0.,   0.,   0.,\n",
              "          0.,   0.,   0.,   0.,   0.,   0.],\n",
              "       [  0.,   0.,   0.,   0.,   0.,   0.,   0.,   0.,   0.,   0.,   0.,\n",
              "          0.,   0.,   0.,   0.,   0.,   0.,   0.,   0.,   0.,   0.,   0.,\n",
              "          0.,   0.,   0.,   0.,   0.,   0.],\n",
              "       [  0.,   0.,   0.,   0.,   0.,   0.,   0.,   0.,   0.,   0.,   0.,\n",
              "          0.,   0.,   0.,   0.,   0.,   0.,   0.,   0.,   0.,   0.,   0.,\n",
              "          0.,   0.,   0.,   0.,   0.,   0.]])"
            ]
          },
          "metadata": {
            "tags": []
          },
          "execution_count": 4
        }
      ]
    },
    {
      "cell_type": "code",
      "metadata": {
        "id": "cIJ3P_ima107",
        "colab_type": "code",
        "colab": {
          "base_uri": "https://localhost:8080/",
          "height": 315
        },
        "outputId": "cdd9c2dd-15e0-4b75-acba-099405cf3a00"
      },
      "source": [
        "plt.hist(train_labels)"
      ],
      "execution_count": 5,
      "outputs": [
        {
          "output_type": "execute_result",
          "data": {
            "text/plain": [
              "(array([ 91., 120.,  96.,  99., 105.,  83.,  98., 104., 101., 103.]),\n",
              " array([0. , 0.9, 1.8, 2.7, 3.6, 4.5, 5.4, 6.3, 7.2, 8.1, 9. ]),\n",
              " <a list of 10 Patch objects>)"
            ]
          },
          "metadata": {
            "tags": []
          },
          "execution_count": 5
        },
        {
          "output_type": "display_data",
          "data": {
            "image/png": "[encoded data removed]",
            "text/plain": [
              "<Figure size 432x288 with 1 Axes>"
            ]
          },
          "metadata": {
            "tags": [],
            "needs_background": "light"
          }
        }
      ]
    },
    {
      "cell_type": "code",
      "metadata": {
        "id": "BAZdIVtBa2SD",
        "colab_type": "code",
        "colab": {
          "base_uri": "https://localhost:8080/",
          "height": 134
        },
        "outputId": "12310fa8-bf54-4607-a16c-7c37c067e38d"
      },
      "source": [
        "# 2. Știind că valoarea minimă a unui pixel este 0, iar valoarea maximă este 255,\n",
        "# calculați capetele a num_bins intervale (utilizați funcția linspace). Definiți\n",
        "# metoda values_to_bins care primește o matrice de dimensiune (n_samples,\n",
        "# n_features) și capetele intervalelor calculate anterior, iar pentru fiecare \n",
        "# exemplu și fiecare atribut calculează indexul intervalului corespunzător\n",
        "# (utilizați funcția np.digitize).\n",
        "# Folosiți funcția definită pentru a discretiza mulțimea de antrenare și cea de\n",
        "# testare.\n",
        "\n",
        "train_images = np.loadtxt('data/train_images.txt')\n",
        "train_labels = np.loadtxt('data/train_labels.txt','float').astype(np.int)\n",
        "test_images = np.loadtxt('data/test_images.txt')\n",
        "test_labels = np.loadtxt('data/test_labels.txt', 'float').astype(np.int)\n",
        "\n",
        "def values_to_bins (data_matrix, num_bins):\n",
        "    bins = np.linspace(start = 0, stop = 255, num = num_bins)\n",
        "    return np.digitize(data_matrix, bins) - 1\n",
        "\n",
        "x_train = values_to_bins(train_images, 5)\n",
        "x_test = values_to_bins(test_images, 5)\n",
        "\n",
        "x_train"
      ],
      "execution_count": 7,
      "outputs": [
        {
          "output_type": "execute_result",
          "data": {
            "text/plain": [
              "array([[0, 0, 0, ..., 0, 0, 0],\n",
              "       [0, 0, 0, ..., 0, 0, 0],\n",
              "       [0, 0, 0, ..., 0, 0, 0],\n",
              "       ...,\n",
              "       [0, 0, 0, ..., 0, 0, 0],\n",
              "       [0, 0, 0, ..., 0, 0, 0],\n",
              "       [0, 0, 0, ..., 0, 0, 0]])"
            ]
          },
          "metadata": {
            "tags": []
          },
          "execution_count": 7
        }
      ]
    },
    {
      "cell_type": "code",
      "metadata": {
        "id": "xCNhl3R3cWE7",
        "colab_type": "code",
        "colab": {
          "base_uri": "https://localhost:8080/",
          "height": 416
        },
        "outputId": "b8ae7f9c-a4a5-48a5-c333-006259d0d94c"
      },
      "source": [
        "# Pentru a observa mai bine valorile\n",
        "plt.hist(x_train)"
      ],
      "execution_count": 9,
      "outputs": [
        {
          "output_type": "execute_result",
          "data": {
            "text/plain": [
              "(array([[1000.,    0.,    0., ...,    0.,    0.,    0.],\n",
              "        [1000.,    0.,    0., ...,    0.,    0.,    0.],\n",
              "        [1000.,    0.,    0., ...,    0.,    0.,    0.],\n",
              "        ...,\n",
              "        [1000.,    0.,    0., ...,    0.,    0.,    0.],\n",
              "        [1000.,    0.,    0., ...,    0.,    0.,    0.],\n",
              "        [1000.,    0.,    0., ...,    0.,    0.,    0.]]),\n",
              " array([0. , 0.4, 0.8, 1.2, 1.6, 2. , 2.4, 2.8, 3.2, 3.6, 4. ]),\n",
              " <a list of 784 Lists of Patches objects>)"
            ]
          },
          "metadata": {
            "tags": []
          },
          "execution_count": 9
        },
        {
          "output_type": "display_data",
          "data": {
            "image/png": "[encoded data removed]",
            "text/plain": [
              "<Figure size 432x288 with 1 Axes>"
            ]
          },
          "metadata": {
            "tags": [],
            "needs_background": "light"
          }
        }
      ]
    },
    {
      "cell_type": "code",
      "metadata": {
        "id": "MiZ_HVdVcbDc",
        "colab_type": "code",
        "colab": {
          "base_uri": "https://localhost:8080/",
          "height": 269
        },
        "outputId": "86c58ddb-addf-479c-aef6-885d65726e53"
      },
      "source": [
        "# 3. Calculați acuratețea pe mulțimea de testare a clasificatorul Multinomial Naive\n",
        "# Bayes, împărținând intervalul pixelilor în 5 sub-intervale\n",
        "\n",
        "from sklearn.naive_bayes import MultinomialNB\n",
        "\n",
        "clf = MultinomialNB()\n",
        "clf.fit(x_train, train_labels)\n",
        "print(clf.score(x_test, test_labels))\n",
        "print(clf.predict(x_test))"
      ],
      "execution_count": 10,
      "outputs": [
        {
          "output_type": "stream",
          "text": [
            "0.836\n",
            "[2 7 3 1 2 2 0 8 1 4 7 3 2 0 8 3 8 9 9 1 8 2 0 0 5 9 6 2 6 7 3 2 4 9 6 6 1\n",
            " 7 5 3 0 1 8 2 2 1 3 7 9 6 7 6 7 7 9 7 3 1 2 1 7 8 0 8 8 3 1 6 0 5 8 8 6 3\n",
            " 2 4 4 0 9 1 9 4 3 3 1 4 0 5 7 9 0 5 2 3 4 4 4 9 5 0 0 6 8 4 6 0 7 0 8 8 7\n",
            " 9 3 0 5 9 5 3 5 7 3 9 9 4 8 9 3 0 8 1 0 9 2 6 6 3 7 0 2 8 7 0 4 2 1 3 1 3\n",
            " 5 3 9 3 0 0 3 6 3 2 0 1 6 4 3 2 8 2 4 4 7 8 5 3 7 4 2 8 0 0 0 3 1 6 6 2 5\n",
            " 2 9 2 6 3 5 2 7 0 0 3 7 8 6 7 8 7 0 5 3 2 8 2 4 7 8 9 4 9 8 0 7 6 3 9 2 5\n",
            " 6 0 1 9 6 0 2 5 9 5 8 4 1 4 6 2 6 9 9 9 5 2 4 5 3 8 3 8 8 8 1 0 4 8 8 9 3\n",
            " 4 4 8 9 0 1 7 7 4 5 0 1 3 7 5 6 9 2 1 2 8 9 6 8 4 6 9 0 5 3 3 5 6 6 5 8 2\n",
            " 9 3 6 1 1 7 0 8 8 3 2 1 0 0 8 0 0 1 1 6 9 2 4 2 7 0 8 8 4 1 7 2 4 2 0 9 6\n",
            " 1 3 9 9 0 0 4 6 7 1 0 1 3 2 5 5 3 2 9 1 6 6 8 9 4 1 3 9 0 5 4 3 4 1 3 1 2\n",
            " 4 2 4 2 2 3 4 4 7 1 3 7 6 5 7 9 3 0 8 4 9 9 9 6 2 2 1 5 6 6 7 9 9 3 8 4 1\n",
            " 1 3 5 5 6 5 9 0 0 9 2 2 9 2 7 3 9 7 2 0 9 7 0 3 1 7 8 4 2 2 7 3 3 2 9 3 2\n",
            " 3 0 9 9 9 3 4 3 1 1 1 2 4 8 6 6 0 1 2 1 6 1 7 6 1 1 4 3 1 1 6 8 7 8 5 1 9\n",
            " 8 6 7 3 3 0 6 0 3 5 1 3 9 9 3 8 8 6 5]\n"
          ],
          "name": "stdout"
        }
      ]
    },
    {
      "cell_type": "code",
      "metadata": {
        "id": "DGZvFb3eclQq",
        "colab_type": "code",
        "colab": {
          "base_uri": "https://localhost:8080/",
          "height": 403
        },
        "outputId": "123de165-4e4d-408e-91d0-970feb66d3a0"
      },
      "source": [
        "test_labels"
      ],
      "execution_count": 11,
      "outputs": [
        {
          "output_type": "execute_result",
          "data": {
            "text/plain": [
              "array([2, 7, 3, 1, 2, 2, 0, 5, 1, 4, 7, 3, 2, 6, 8, 3, 8, 9, 9, 1, 8, 2,\n",
              "       0, 0, 5, 4, 6, 2, 6, 7, 3, 2, 4, 7, 6, 6, 1, 7, 5, 2, 0, 1, 1, 2,\n",
              "       2, 1, 3, 7, 9, 6, 7, 6, 7, 7, 3, 7, 3, 1, 2, 1, 7, 8, 0, 1, 8, 3,\n",
              "       1, 6, 0, 5, 8, 6, 6, 3, 2, 9, 7, 0, 9, 1, 4, 4, 3, 5, 1, 4, 0, 5,\n",
              "       7, 9, 0, 5, 2, 3, 4, 4, 4, 9, 5, 0, 0, 6, 8, 4, 6, 0, 7, 0, 8, 0,\n",
              "       7, 5, 3, 0, 5, 7, 5, 3, 8, 7, 3, 9, 9, 4, 5, 9, 3, 0, 6, 1, 0, 9,\n",
              "       2, 6, 6, 3, 7, 0, 2, 8, 7, 5, 4, 2, 1, 3, 6, 5, 5, 5, 4, 3, 0, 0,\n",
              "       3, 6, 3, 2, 0, 1, 6, 4, 3, 2, 5, 3, 8, 4, 7, 8, 5, 5, 7, 4, 2, 8,\n",
              "       0, 0, 0, 3, 1, 6, 6, 2, 5, 2, 9, 2, 2, 3, 5, 8, 7, 0, 0, 3, 7, 8,\n",
              "       6, 7, 8, 7, 0, 5, 3, 2, 8, 2, 4, 7, 8, 4, 4, 4, 5, 2, 7, 6, 3, 9,\n",
              "       2, 5, 6, 0, 1, 9, 6, 0, 2, 5, 9, 5, 8, 9, 1, 9, 6, 8, 6, 9, 4, 4,\n",
              "       5, 2, 4, 5, 5, 8, 3, 8, 8, 8, 1, 0, 4, 8, 2, 9, 3, 4, 9, 5, 4, 0,\n",
              "       1, 7, 7, 4, 5, 0, 1, 9, 7, 5, 0, 9, 2, 1, 2, 8, 9, 5, 8, 7, 6, 9,\n",
              "       0, 5, 3, 3, 5, 6, 6, 5, 8, 2, 9, 3, 6, 1, 1, 7, 0, 8, 1, 3, 8, 1,\n",
              "       0, 0, 8, 0, 0, 1, 1, 6, 9, 2, 4, 2, 7, 0, 8, 8, 4, 1, 8, 2, 4, 2,\n",
              "       0, 4, 6, 1, 8, 3, 4, 0, 0, 4, 6, 7, 1, 2, 1, 3, 2, 5, 5, 3, 2, 9,\n",
              "       1, 6, 8, 8, 9, 4, 1, 3, 7, 0, 5, 4, 3, 9, 1, 5, 1, 2, 4, 2, 6, 2,\n",
              "       2, 3, 4, 2, 7, 1, 3, 7, 6, 5, 2, 7, 5, 0, 8, 4, 9, 9, 9, 6, 2, 2,\n",
              "       1, 5, 6, 6, 7, 9, 9, 3, 5, 4, 7, 1, 3, 5, 5, 6, 5, 9, 0, 0, 7, 2,\n",
              "       2, 9, 2, 7, 3, 3, 7, 2, 0, 9, 7, 0, 5, 1, 7, 4, 4, 2, 2, 7, 3, 8,\n",
              "       2, 9, 3, 9, 3, 0, 8, 9, 4, 3, 4, 3, 1, 1, 2, 2, 4, 4, 6, 6, 0, 1,\n",
              "       2, 8, 6, 1, 7, 6, 1, 1, 4, 3, 1, 1, 6, 8, 7, 8, 5, 1, 9, 8, 6, 7,\n",
              "       3, 3, 0, 6, 0, 8, 5, 1, 5, 7, 9, 3, 1, 8, 6, 5])"
            ]
          },
          "metadata": {
            "tags": []
          },
          "execution_count": 11
        }
      ]
    },
    {
      "cell_type": "code",
      "metadata": {
        "id": "00dTy3jOcrI9",
        "colab_type": "code",
        "colab": {
          "base_uri": "https://localhost:8080/",
          "height": 282
        },
        "outputId": "9aa0d390-d0d2-4fc2-846f-f1a4ba4d4bc0"
      },
      "source": [
        "plt.imshow(x_test[2].reshape((28, 28)), cmap='gray')"
      ],
      "execution_count": 12,
      "outputs": [
        {
          "output_type": "execute_result",
          "data": {
            "text/plain": [
              "<matplotlib.image.AxesImage at 0x7ff0d08cba58>"
            ]
          },
          "metadata": {
            "tags": []
          },
          "execution_count": 12
        },
        {
          "output_type": "display_data",
          "data": {
            "image/png": "[encoded data removed]",
            "text/plain": [
              "<Figure size 432x288 with 1 Axes>"
            ]
          },
          "metadata": {
            "tags": [],
            "needs_background": "light"
          }
        }
      ]
    },
    {
      "cell_type": "code",
      "metadata": {
        "id": "krUCtu0JctdX",
        "colab_type": "code",
        "colab": {
          "base_uri": "https://localhost:8080/",
          "height": 34
        },
        "outputId": "a716e361-5207-46c8-aed7-8fa1f68b3bf9"
      },
      "source": [
        "# Acuratețea pe care trebuie să o obțineți pentru num_bins = 5 este de 83.6%.\n",
        "(clf.predict(x_test) == test_labels).mean()"
      ],
      "execution_count": 14,
      "outputs": [
        {
          "output_type": "execute_result",
          "data": {
            "text/plain": [
              "0.836"
            ]
          },
          "metadata": {
            "tags": []
          },
          "execution_count": 14
        }
      ]
    },
    {
      "cell_type": "code",
      "metadata": {
        "id": "W1KWlg3-c5g-",
        "colab_type": "code",
        "colab": {
          "base_uri": "https://localhost:8080/",
          "height": 185
        },
        "outputId": "0ae66995-5618-4b1b-bb3c-d8c539368b8c"
      },
      "source": [
        "# 4. Testați clasificatorul Multinomial Naive Bayes pe subsetul MNIST folosind𝑛𝑢𝑚_𝑏𝑖𝑛𝑠 ∈ {3, 5, 7, 9, 11}.\n",
        "\n",
        "from time import time\n",
        "\n",
        "num_bins = [3, 5, 7, 9, 11]\n",
        "for n in num_bins:\n",
        "    \n",
        "    train_to_bins = values_to_bins(train_images, n)\n",
        "    test_to_bins = values_to_bins(test_images, n)\n",
        "\n",
        "    start_time = time()\n",
        "    NB = MultinomialNB()\n",
        "    NB.fit(train_to_bins, train_labels)\n",
        "    print(time() - start_time)\n",
        "    print(NB.score(test_to_bins, test_labels))"
      ],
      "execution_count": 15,
      "outputs": [
        {
          "output_type": "stream",
          "text": [
            "0.01700615882873535\n",
            "0.826\n",
            "0.02334737777709961\n",
            "0.836\n",
            "0.02129197120666504\n",
            "0.842\n",
            "0.025016307830810547\n",
            "0.842\n",
            "0.021419048309326172\n",
            "0.842\n"
          ],
          "name": "stdout"
        }
      ]
    },
    {
      "cell_type": "code",
      "metadata": {
        "id": "osq2_Mu1dDts",
        "colab_type": "code",
        "colab": {
          "base_uri": "https://localhost:8080/",
          "height": 34
        },
        "outputId": "e0e6b686-1198-43e5-e0f1-742c550ff86f"
      },
      "source": [
        "train_to_bins = values_to_bins(train_images, 7)\n",
        "test_to_bins = values_to_bins(test_images, 7)\n",
        "\n",
        "start_time = time()\n",
        "NB = MultinomialNB()\n",
        "NB.fit(train_to_bins, train_labels)\n",
        "print(NB.score(test_to_bins, test_labels))\n"
      ],
      "execution_count": 16,
      "outputs": [
        {
          "output_type": "stream",
          "text": [
            "0.842\n"
          ],
          "name": "stdout"
        }
      ]
    },
    {
      "cell_type": "code",
      "metadata": {
        "id": "G_u23CGTeElj",
        "colab_type": "code",
        "colab": {
          "base_uri": "https://localhost:8080/",
          "height": 34
        },
        "outputId": "d9f273f6-1832-4178-91db-08840aac7d0a"
      },
      "source": [
        "test_preds = NB.predict(test_to_bins)\n",
        "\n",
        "print(test_preds.reshape(-1, 1).shape)"
      ],
      "execution_count": 19,
      "outputs": [
        {
          "output_type": "stream",
          "text": [
            "(500, 1)\n"
          ],
          "name": "stdout"
        }
      ]
    },
    {
      "cell_type": "code",
      "metadata": {
        "id": "rzfnKi__d42c",
        "colab_type": "code",
        "colab": {
          "base_uri": "https://localhost:8080/",
          "height": 1000
        },
        "outputId": "a4e2de7f-ddf0-40e8-ed76-ed4ba614b1d1"
      },
      "source": [
        "# 5. Folosind numărul de sub-intervale care obține cea mai bună acuratețe la\n",
        "# exercițiul anterior, afișați cel puțin 10 exemple misclasate.\n",
        "\n",
        "c = 10\n",
        "for i in range(len(test_labels)):\n",
        "    if test_labels[i] == test_preds[i]:\n",
        "        continue\n",
        "    plt.title(str(test_preds[i]) + ' ' + str(test_labels[i]))\n",
        "    plt.imshow(x_test[i].reshape((28, 28)), cmap='gray')\n",
        "    plt.show()\n",
        "    c -= 1\n",
        "    if c == 0:\n",
        "        break"
      ],
      "execution_count": 20,
      "outputs": [
        {
          "output_type": "display_data",
          "data": {
            "image/png": "[encoded data removed]",
            "text/plain": [
              "<Figure size 432x288 with 1 Axes>"
            ]
          },
          "metadata": {
            "tags": [],
            "needs_background": "light"
          }
        },
        {
          "output_type": "display_data",
          "data": {
            "image/png": "[encoded data removed]",
            "text/plain": [
              "<Figure size 432x288 with 1 Axes>"
            ]
          },
          "metadata": {
            "tags": [],
            "needs_background": "light"
          }
        },
        {
          "output_type": "display_data",
          "data": {
            "image/png": "[encoded data removed]",
            "text/plain": [
              "<Figure size 432x288 with 1 Axes>"
            ]
          },
          "metadata": {
            "tags": [],
            "needs_background": "light"
          }
        },
        {
          "output_type": "display_data",
          "data": {
            "image/png": "[encoded data removed]",
            "text/plain": [
              "<Figure size 432x288 with 1 Axes>"
            ]
          },
          "metadata": {
            "tags": [],
            "needs_background": "light"
          }
        },
        {
          "output_type": "display_data",
          "data": {
            "image/png": "[encoded data removed]",
            "text/plain": [
              "<Figure size 432x288 with 1 Axes>"
            ]
          },
          "metadata": {
            "tags": [],
            "needs_background": "light"
          }
        },
        {
          "output_type": "display_data",
          "data": {
            "image/png": "[encoded data removed]",
            "text/plain": [
              "<Figure size 432x288 with 1 Axes>"
            ]
          },
          "metadata": {
            "tags": [],
            "needs_background": "light"
          }
        },
        {
          "output_type": "display_data",
          "data": {
            "image/png": "[encoded data removed]",
            "text/plain": [
              "<Figure size 432x288 with 1 Axes>"
            ]
          },
          "metadata": {
            "tags": [],
            "needs_background": "light"
          }
        },
        {
          "output_type": "display_data",
          "data": {
            "image/png": "[encoded data removed]",
            "text/plain": [
              "<Figure size 432x288 with 1 Axes>"
            ]
          },
          "metadata": {
            "tags": [],
            "needs_background": "light"
          }
        },
        {
          "output_type": "display_data",
          "data": {
            "image/png": "[encoded data removed]",
            "text/plain": [
              "<Figure size 432x288 with 1 Axes>"
            ]
          },
          "metadata": {
            "tags": [],
            "needs_background": "light"
          }
        },
        {
          "output_type": "display_data",
          "data": {
            "image/png": "[encoded data removed]",
            "text/plain": [
              "<Figure size 432x288 with 1 Axes>"
            ]
          },
          "metadata": {
            "tags": [],
            "needs_background": "light"
          }
        }
      ]
    },
    {
      "cell_type": "code",
      "metadata": {
        "id": "6dFlsyH4eIci",
        "colab_type": "code",
        "colab": {
          "base_uri": "https://localhost:8080/",
          "height": 1000
        },
        "outputId": "a420e44a-2996-4ec6-e35c-c6c904339d5d"
      },
      "source": [
        "indexes = (clf.predict(x_test) == test_labels) == 0\n",
        "miss_img = test_images[indexes]\n",
        "miss_pred = test_preds[indexes]\n",
        "miss_labels = test_labels[indexes]\n",
        "\n",
        "# print(miss_pred)\n",
        "# print(miss_labels)\n",
        "\n",
        "for i in range(10):\n",
        "    plt.title(str(miss_pred[i]) + ' ' + str(miss_labels[i]))\n",
        "    plt.imshow(miss_img[i].reshape((28, 28)), cmap='gray')\n",
        "    plt.show()"
      ],
      "execution_count": 21,
      "outputs": [
        {
          "output_type": "display_data",
          "data": {
            "image/png": "[encoded data removed]",
            "text/plain": [
              "<Figure size 432x288 with 1 Axes>"
            ]
          },
          "metadata": {
            "tags": [],
            "needs_background": "light"
          }
        },
        {
          "output_type": "display_data",
          "data": {
            "image/png": "[encoded data removed]",
            "text/plain": [
              "<Figure size 432x288 with 1 Axes>"
            ]
          },
          "metadata": {
            "tags": [],
            "needs_background": "light"
          }
        },
        {
          "output_type": "display_data",
          "data": {
            "image/png": "[encoded data removed]",
            "text/plain": [
              "<Figure size 432x288 with 1 Axes>"
            ]
          },
          "metadata": {
            "tags": [],
            "needs_background": "light"
          }
        },
        {
          "output_type": "display_data",
          "data": {
            "image/png": "[encoded data removed]",
            "text/plain": [
              "<Figure size 432x288 with 1 Axes>"
            ]
          },
          "metadata": {
            "tags": [],
            "needs_background": "light"
          }
        },
        {
          "output_type": "display_data",
          "data": {
            "image/png": "[encoded data removed]",
            "text/plain": [
              "<Figure size 432x288 with 1 Axes>"
            ]
          },
          "metadata": {
            "tags": [],
            "needs_background": "light"
          }
        },
        {
          "output_type": "display_data",
          "data": {
            "image/png": "[encoded data removed]",
            "text/plain": [
              "<Figure size 432x288 with 1 Axes>"
            ]
          },
          "metadata": {
            "tags": [],
            "needs_background": "light"
          }
        },
        {
          "output_type": "display_data",
          "data": {
            "image/png": "[encoded data removed]",
            "text/plain": [
              "<Figure size 432x288 with 1 Axes>"
            ]
          },
          "metadata": {
            "tags": [],
            "needs_background": "light"
          }
        },
        {
          "output_type": "display_data",
          "data": {
            "image/png": "[encoded data removed]",
            "text/plain": [
              "<Figure size 432x288 with 1 Axes>"
            ]
          },
          "metadata": {
            "tags": [],
            "needs_background": "light"
          }
        },
        {
          "output_type": "display_data",
          "data": {
            "image/png": "[encoded data removed]",
            "text/plain": [
              "<Figure size 432x288 with 1 Axes>"
            ]
          },
          "metadata": {
            "tags": [],
            "needs_background": "light"
          }
        },
        {
          "output_type": "display_data",
          "data": {
            "image/png": "[encoded data removed]",
            "text/plain": [
              "<Figure size 432x288 with 1 Axes>"
            ]
          },
          "metadata": {
            "tags": [],
            "needs_background": "light"
          }
        }
      ]
    },
    {
      "cell_type": "code",
      "metadata": {
        "id": "LOjVmmIJeM7G",
        "colab_type": "code",
        "colab": {
          "base_uri": "https://localhost:8080/",
          "height": 1000
        },
        "outputId": "787a2f15-0878-4caf-ac55-1915913f7b0c"
      },
      "source": [
        "indexes = np.argwhere(clf.predict(x_test) != test_labels).reshape(-1)\n",
        "print(indexes)\n",
        "for i in indexes[:10]:\n",
        "    plt.title(str(test_preds[i]) + ' ' + str(test_labels[i]))\n",
        "    plt.imshow(x_test[i].reshape((28, 28)), cmap='gray')\n",
        "    plt.show()"
      ],
      "execution_count": 22,
      "outputs": [
        {
          "output_type": "stream",
          "text": [
            "[  7  13  25  33  39  42  54  63  71  75  76  80  83 109 111 115 118 124\n",
            " 128 141 146 147 149 150 164 165 166 171 188 191 211 213 214 215 233 235\n",
            " 237 240 241 246 256 260 261 262 271 274 281 283 304 306 326 331 334 335\n",
            " 336 343 354 360 365 367 372 377 384 385 386 404 406 416 423 430 433 439\n",
            " 443 446 448 454 457 463 489 492 493 496]\n"
          ],
          "name": "stdout"
        },
        {
          "output_type": "display_data",
          "data": {
            "image/png": "[encoded data removed]",
            "text/plain": [
              "<Figure size 432x288 with 1 Axes>"
            ]
          },
          "metadata": {
            "tags": [],
            "needs_background": "light"
          }
        },
        {
          "output_type": "display_data",
          "data": {
            "image/png": "[encoded data removed]",
            "text/plain": [
              "<Figure size 432x288 with 1 Axes>"
            ]
          },
          "metadata": {
            "tags": [],
            "needs_background": "light"
          }
        },
        {
          "output_type": "display_data",
          "data": {
            "image/png": "[encoded data removed]",
            "text/plain": [
              "<Figure size 432x288 with 1 Axes>"
            ]
          },
          "metadata": {
            "tags": [],
            "needs_background": "light"
          }
        },
        {
          "output_type": "display_data",
          "data": {
            "image/png": "[encoded data removed]",
            "text/plain": [
              "<Figure size 432x288 with 1 Axes>"
            ]
          },
          "metadata": {
            "tags": [],
            "needs_background": "light"
          }
        },
        {
          "output_type": "display_data",
          "data": {
            "image/png": "[encoded data removed]",
            "text/plain": [
              "<Figure size 432x288 with 1 Axes>"
            ]
          },
          "metadata": {
            "tags": [],
            "needs_background": "light"
          }
        },
        {
          "output_type": "display_data",
          "data": {
            "image/png": "[encoded data removed]",
            "text/plain": [
              "<Figure size 432x288 with 1 Axes>"
            ]
          },
          "metadata": {
            "tags": [],
            "needs_background": "light"
          }
        },
        {
          "output_type": "display_data",
          "data": {
            "image/png": "[encoded data removed]",
            "text/plain": [
              "<Figure size 432x288 with 1 Axes>"
            ]
          },
          "metadata": {
            "tags": [],
            "needs_background": "light"
          }
        },
        {
          "output_type": "display_data",
          "data": {
            "image/png": "[encoded data removed]",
            "text/plain": [
              "<Figure size 432x288 with 1 Axes>"
            ]
          },
          "metadata": {
            "tags": [],
            "needs_background": "light"
          }
        },
        {
          "output_type": "display_data",
          "data": {
            "image/png": "[encoded data removed]",
            "text/plain": [
              "<Figure size 432x288 with 1 Axes>"
            ]
          },
          "metadata": {
            "tags": [],
            "needs_background": "light"
          }
        },
        {
          "output_type": "display_data",
          "data": {
            "image/png": "[encoded data removed]",
            "text/plain": [
              "<Figure size 432x288 with 1 Axes>"
            ]
          },
          "metadata": {
            "tags": [],
            "needs_background": "light"
          }
        }
      ]
    },
    {
      "cell_type": "code",
      "metadata": {
        "id": "l2aBfSGzeT31",
        "colab_type": "code",
        "colab": {
          "base_uri": "https://localhost:8080/",
          "height": 185
        },
        "outputId": "2820ea44-c3c7-4637-f029-84ab88f13060"
      },
      "source": [
        "# 6. Definiți metoda confusion_matrix(y_true, y_pred) care calculează matricea de\n",
        "# confuzie. Calculați matricea de confuzie folosind predicțiile clasificatorului anterior.\n",
        "\n",
        "def confusion_matrix(y_true, y_pred, c=10):\n",
        "    result = np.zeros((c, c)).astype(np.int)\n",
        "\n",
        "\n",
        "    for p, t in zip(y_pred, y_true):\n",
        "        result[t, p] += 1\n",
        "\n",
        "\n",
        "    return result\n",
        "\n",
        "print(confusion_matrix(test_labels, test_preds))"
      ],
      "execution_count": 23,
      "outputs": [
        {
          "output_type": "stream",
          "text": [
            "[[51  0  0  0  0  0  1  0  1  0]\n",
            " [ 0 48  0  0  0  0  0  0  4  0]\n",
            " [ 2  0 51  1  1  0  1  1  1  0]\n",
            " [ 0  0  1 49  0  0  0  0  0  3]\n",
            " [ 0  0  0  0 34  0  0  0  2 10]\n",
            " [ 1  0  0  9  0 35  1  0  5  1]\n",
            " [ 1  1  0  0  1  0 43  0  2  0]\n",
            " [ 0  1  0  0  2  0  0 41  0  6]\n",
            " [ 0  1  3  3  1  1  1  1 34  1]\n",
            " [ 0  0  1  1  5  0  0  0  0 35]]\n"
          ],
          "name": "stdout"
        }
      ]
    },
    {
      "cell_type": "code",
      "metadata": {
        "id": "Kb-sUVBjedCy",
        "colab_type": "code",
        "colab": {
          "base_uri": "https://localhost:8080/",
          "height": 185
        },
        "outputId": "39894ba6-a8e3-44c3-a3ac-b2e52cc45390"
      },
      "source": [
        "from sklearn.metrics import confusion_matrix\n",
        "\n",
        "conf = confusion_matrix(test_labels, test_preds)\n",
        "print(conf)"
      ],
      "execution_count": 25,
      "outputs": [
        {
          "output_type": "stream",
          "text": [
            "[[51  0  0  0  0  0  1  0  1  0]\n",
            " [ 0 48  0  0  0  0  0  0  4  0]\n",
            " [ 2  0 51  1  1  0  1  1  1  0]\n",
            " [ 0  0  1 49  0  0  0  0  0  3]\n",
            " [ 0  0  0  0 34  0  0  0  2 10]\n",
            " [ 1  0  0  9  0 35  1  0  5  1]\n",
            " [ 1  1  0  0  1  0 43  0  2  0]\n",
            " [ 0  1  0  0  2  0  0 41  0  6]\n",
            " [ 0  1  3  3  1  1  1  1 34  1]\n",
            " [ 0  0  1  1  5  0  0  0  0 35]]\n"
          ],
          "name": "stdout"
        }
      ]
    }
  ]
}